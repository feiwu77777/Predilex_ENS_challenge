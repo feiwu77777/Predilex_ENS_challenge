{
 "cells": [
  {
   "cell_type": "markdown",
   "metadata": {},
   "source": [
    "## **Summary**\n",
    "    0. Imports\n",
    "    1. Load Data\n",
    "    2. Creating Training set\n",
    "    3. Training Model\n",
    "    4. Predict Accident Dates in Texts\n",
    "    5. Predict Dates in Test Data "
   ]
  },
  {
   "cell_type": "markdown",
   "metadata": {},
   "source": [
    "# 0. import"
   ]
  },
  {
   "cell_type": "code",
   "execution_count": 2,
   "metadata": {},
   "outputs": [
    {
     "name": "stderr",
     "output_type": "stream",
     "text": [
      "[nltk_data] Downloading package wordnet to /home/fei/nltk_data...\n",
      "[nltk_data]   Package wordnet is already up-to-date!\n",
      "[nltk_data] Downloading package stopwords to /home/fei/nltk_data...\n",
      "[nltk_data]   Package stopwords is already up-to-date!\n"
     ]
    }
   ],
   "source": [
    "import os\n",
    "import re\n",
    "import pandas as pd\n",
    "from utils import *\n",
    "import pickle\n",
    "import nltk\n",
    "from tqdm import tqdm\n",
    "import numpy as np\n",
    "from nltk.corpus import stopwords\n",
    "from nltk.stem import WordNetLemmatizer, SnowballStemmer\n",
    "nltk.download('wordnet')\n",
    "nltk.download('stopwords')\n",
    "\n",
    "from sklearn.feature_extraction.text import TfidfVectorizer\n",
    "from sklearn.model_selection import KFold\n",
    "from xgboost import XGBClassifier"
   ]
  },
  {
   "cell_type": "markdown",
   "metadata": {},
   "source": [
    "# 1. Load data"
   ]
  },
  {
   "cell_type": "code",
   "execution_count": 3,
   "metadata": {},
   "outputs": [],
   "source": [
    "# author code\n",
    "x_tr_df = pd.read_csv('train_folder/x_train_ids.csv', index_col=0)\n",
    "tr_dir = \"train_folder/txt_files/\"\n",
    "tr_files = x_tr_df['filename'].values\n",
    "\n",
    "# tr_texts has all the texts in it\n",
    "tr_texts = []\n",
    "for tr_file in tr_files:\n",
    "    f = open(os.path.join(tr_dir, tr_file), \"r\")\n",
    "    f = f.read()\n",
    "    f = clean1(f)\n",
    "    tr_texts.append(f)\n",
    "\n",
    "# text labels\n",
    "y_tr_df = pd.read_csv('train_folder/Y_train_predilex.csv', index_col=0)"
   ]
  },
  {
   "cell_type": "code",
   "execution_count": 4,
   "metadata": {},
   "outputs": [
    {
     "data": {
      "text/html": [
       "<div>\n",
       "<style scoped>\n",
       "    .dataframe tbody tr th:only-of-type {\n",
       "        vertical-align: middle;\n",
       "    }\n",
       "\n",
       "    .dataframe tbody tr th {\n",
       "        vertical-align: top;\n",
       "    }\n",
       "\n",
       "    .dataframe thead th {\n",
       "        text-align: right;\n",
       "    }\n",
       "</style>\n",
       "<table border=\"1\" class=\"dataframe\">\n",
       "  <thead>\n",
       "    <tr style=\"text-align: right;\">\n",
       "      <th></th>\n",
       "      <th>sexe</th>\n",
       "      <th>date_accident</th>\n",
       "      <th>date_consolidation</th>\n",
       "    </tr>\n",
       "    <tr>\n",
       "      <th>ID</th>\n",
       "      <th></th>\n",
       "      <th></th>\n",
       "      <th></th>\n",
       "    </tr>\n",
       "  </thead>\n",
       "  <tbody>\n",
       "    <tr>\n",
       "      <th>0</th>\n",
       "      <td>homme</td>\n",
       "      <td>1991-04-09</td>\n",
       "      <td>n.c.</td>\n",
       "    </tr>\n",
       "    <tr>\n",
       "      <th>1</th>\n",
       "      <td>homme</td>\n",
       "      <td>2005-06-10</td>\n",
       "      <td>2010-01-19</td>\n",
       "    </tr>\n",
       "    <tr>\n",
       "      <th>2</th>\n",
       "      <td>femme</td>\n",
       "      <td>1997-09-26</td>\n",
       "      <td>n.c.</td>\n",
       "    </tr>\n",
       "    <tr>\n",
       "      <th>3</th>\n",
       "      <td>femme</td>\n",
       "      <td>1982-08-07</td>\n",
       "      <td>1982-11-07</td>\n",
       "    </tr>\n",
       "    <tr>\n",
       "      <th>4</th>\n",
       "      <td>homme</td>\n",
       "      <td>1996-11-26</td>\n",
       "      <td>n.c.</td>\n",
       "    </tr>\n",
       "  </tbody>\n",
       "</table>\n",
       "</div>"
      ],
      "text/plain": [
       "     sexe date_accident date_consolidation\n",
       "ID                                        \n",
       "0   homme    1991-04-09               n.c.\n",
       "1   homme    2005-06-10         2010-01-19\n",
       "2   femme    1997-09-26               n.c.\n",
       "3   femme    1982-08-07         1982-11-07\n",
       "4   homme    1996-11-26               n.c."
      ]
     },
     "execution_count": 4,
     "metadata": {},
     "output_type": "execute_result"
    }
   ],
   "source": [
    "y_tr_df.head()"
   ]
  },
  {
   "cell_type": "code",
   "execution_count": 7,
   "metadata": {},
   "outputs": [],
   "source": [
    "# define custom dates\n",
    "pattern1 = r\"\\d{1,2} \\w{3,9} \\d{2,4}\"\n",
    "pattern2 = r\"1° \\w{3,9} \\d{2,4}\"\n",
    "pattern3 = r\"1er \\w{3,9} \\d{2,4}\"\n",
    "pattern4 = r\"\\d{1,2}/\\d{1,2}/\\d{2,4}\"\n",
    "pattern5 = r\"\\d{1,2} / \\d{1,2} / \\d{2,4}\"\n",
    "pattern6 = r\"\\d{1,2}/ \\d{1,2}/ \\d{2,4}\"\n",
    "\n",
    "\n",
    "pattern1_bis = r\"(\\d{1,2}) (\\w{3,9}) (\\d{2,4})\"\n",
    "pattern2_bis = r\"(1°) (\\w{3,9}) (\\d{2,4})\"\n",
    "pattern3_bis = r\"(1er) (\\w{3,9}) (\\d{2,4})\"\n",
    "pattern4_bis = r\"(\\d{1,2})/(\\d{1,2})/(\\d{2,4})\"\n",
    "pattern5_bis = r\"(\\d{1,2}) / (\\d{1,2}) / (\\d{2,4})\"\n",
    "pattern6_bis = r\"(\\d{1,2})/ (\\d{1,2})/ (\\d{2,4})\"\n",
    "\n",
    "patterns = [pattern1, pattern2, pattern3, pattern4, pattern5, pattern6] \n",
    "patterns_bis = [pattern1_bis, pattern2_bis, pattern3_bis, pattern4_bis, pattern5_bis, pattern6_bis] "
   ]
  },
  {
   "cell_type": "markdown",
   "metadata": {},
   "source": [
    "# 2. Creating Training Set"
   ]
  },
  {
   "cell_type": "markdown",
   "metadata": {},
   "source": [
    "#### Creating a dataset for accident and no accident classification"
   ]
  },
  {
   "cell_type": "code",
   "execution_count": 11,
   "metadata": {},
   "outputs": [],
   "source": [
    "stemmer = SnowballStemmer('french')\n",
    "lemmatizer = WordNetLemmatizer()\n",
    "stop_words = list(stopwords.words('french'))"
   ]
  },
  {
   "cell_type": "code",
   "execution_count": 12,
   "metadata": {},
   "outputs": [],
   "source": [
    "months_str_to_int = dict(janvier='01', fevrier='02', mars='03', avril='04', mai='05', juin='06',\n",
    "                         juillet='07', aout='08', septembre='09', octobre='10', novembre='11',\n",
    "                         decembre='12')"
   ]
  },
  {
   "cell_type": "code",
   "execution_count": 68,
   "metadata": {},
   "outputs": [],
   "source": [
    "window = 100"
   ]
  },
  {
   "cell_type": "code",
   "execution_count": 69,
   "metadata": {
    "scrolled": true
   },
   "outputs": [
    {
     "name": "stderr",
     "output_type": "stream",
     "text": [
      "100%|██████████| 770/770 [00:29<00:00, 26.43it/s]\n"
     ]
    }
   ],
   "source": [
    "leftover = []\n",
    "x_train = []\n",
    "y_train = []\n",
    "\n",
    "for i in tqdm(range(len(tr_texts))):\n",
    "    text = tr_texts[i]\n",
    "    if y_tr_df.iloc[i]['date_accident'] != 'n.c.':\n",
    "        index = []\n",
    "        dates = []\n",
    "        for k, pattern in enumerate(patterns):\n",
    "            index.extend(re.finditer(pattern, text))\n",
    "            dates.extend(re.findall(patterns_bis[k], text))\n",
    "\n",
    "        zipped = sorted(list(zip(index,dates)), key = lambda x: x[0].start())\n",
    "        for j in range((len(index))):\n",
    "            index[j] = zipped[j][0]\n",
    "            dates[j] = zipped[j][1]\n",
    "        start_index = index[2].end()\n",
    "        index = index[3:]\n",
    "        dates = dates[3:]\n",
    "\n",
    "        sequences = []\n",
    "        for k, ind in enumerate(index):\n",
    "            day, month, year = dates[k][0], dates[k][1], dates[k][2]\n",
    "            month = month.lower().replace('é', 'e').replace('û', 'u')\n",
    "            if (month in months_str_to_int) or (month in months_str_to_int.values()):\n",
    "                day, month, year = format_date(day, month, year)\n",
    "                date = f\"{year}-{month}-{day}\"\n",
    "\n",
    "                if date == y_tr_df.iloc[i]['date_accident']: y_train.append(1)\n",
    "                else: y_train.append(0)\n",
    "\n",
    "                match1 = re.match(r\"[^\\.]*(\\.)\", text[ind.end(): ind.end() + window])        \n",
    "                match2 = re.match(r\"[^\\.]*(\\.)\", text[ind.start() - window : ind.start()][::-1])\n",
    "\n",
    "                if match2: start = len(text[:ind.start()]) - match2.end() + 1\n",
    "                else: start = ind.start() - window\n",
    "                if match1: end = len(text[:ind.end()]) + match1.end()\n",
    "                else: end = ind.end() + window\n",
    "\n",
    "                chunk = text[start:end]\n",
    "                if start == ind.start() - window: chunk = re.sub(r\"^[^\\s]*\\s*\", \"\", chunk)\n",
    "                if end == ind.end() + window: chunk = re.sub(r\"\\s*[^\\s]*$\", \"\", chunk)\n",
    "\n",
    "                chunk = clean2(chunk, lemmatizer, stemmer, stop_words = stop_words)\n",
    "                x_train.append(chunk)\n",
    "                \n",
    "                #if (start, end) in sequences and y_train[-1] == 1: print('text ' + str(i), (start,end))\n",
    "                sequences.append((start,end))\n",
    "                \n",
    "\n",
    "        final = []\n",
    "        i = 0\n",
    "        while i != len(sequences):\n",
    "            start = sequences[i][0]\n",
    "            while i+1 != len(sequences) and sequences[i+1][0] == start:\n",
    "                i += 1\n",
    "            end = sequences[i][1]\n",
    "            i += 1\n",
    "            final.append((start,end))\n",
    "\n",
    "        sequences = [(start_index, final[0][0])]\n",
    "        for i in range(len(final)-1):\n",
    "            sequences.append((final[i][1], final[i+1][0]))\n",
    "        sequences.append((final[-1][1],-1))\n",
    "\n",
    "        lf = ''\n",
    "        for s in sequences:\n",
    "            if s[1] == -1 or s[1] - s[0] >= 20: \n",
    "                morceau = re.sub(r\"^[^\\s]*\\s*\", \"\", text[s[0]:s[1]])\n",
    "                if s[1] != -1: morceau = re.sub(r\"\\s*[^\\s]*$\", \"\", morceau)\n",
    "                lf = lf + morceau + '. '\n",
    "        lf = lf[:-1]\n",
    "        leftover.append(lf)\n",
    "\n",
    "    else:\n",
    "        index = []\n",
    "        for k, pattern in enumerate(patterns):\n",
    "            index.extend(re.finditer(pattern, text))\n",
    "\n",
    "        index = sorted(index, key = lambda x: x.start())\n",
    "        start_index = index[2].end()\n",
    "        leftover.append(text[start_index:].strip())"
   ]
  },
  {
   "cell_type": "code",
   "execution_count": 13,
   "metadata": {},
   "outputs": [],
   "source": [
    "pickle.dump(leftover, open('leftover.pkl', 'wb'))"
   ]
  },
  {
   "cell_type": "code",
   "execution_count": 70,
   "metadata": {},
   "outputs": [],
   "source": [
    "y_train = np.array(y_train)"
   ]
  },
  {
   "cell_type": "markdown",
   "metadata": {},
   "source": [
    "# 3. Training Model"
   ]
  },
  {
   "cell_type": "code",
   "execution_count": 72,
   "metadata": {
    "scrolled": true
   },
   "outputs": [],
   "source": [
    "TF_IDF = TfidfVectorizer(ngram_range=(1, 2), max_features=1000, norm='l2', sublinear_tf=True)\n",
    "x_train = TF_IDF.fit_transform(x_train).toarray()"
   ]
  },
  {
   "cell_type": "code",
   "execution_count": 165,
   "metadata": {
    "collapsed": true
   },
   "outputs": [
    {
     "ename": "KeyboardInterrupt",
     "evalue": "",
     "output_type": "error",
     "traceback": [
      "\u001b[0;31m---------------------------------------------------------------------------\u001b[0m",
      "\u001b[0;31mKeyboardInterrupt\u001b[0m                         Traceback (most recent call last)",
      "\u001b[0;32m<ipython-input-165-909aded607a3>\u001b[0m in \u001b[0;36m<module>\u001b[0;34m\u001b[0m\n\u001b[1;32m      7\u001b[0m     \u001b[0;34m'colsample_bytree'\u001b[0m\u001b[0;34m:\u001b[0m \u001b[0;34m[\u001b[0m\u001b[0;36m.7\u001b[0m\u001b[0;34m,\u001b[0m \u001b[0;36m.9\u001b[0m\u001b[0;34m]\u001b[0m\u001b[0;34m,\u001b[0m\u001b[0;34m\u001b[0m\u001b[0;34m\u001b[0m\u001b[0m\n\u001b[1;32m      8\u001b[0m }\n\u001b[0;32m----> 9\u001b[0;31m \u001b[0mclassifier\u001b[0m\u001b[0;34m,\u001b[0m \u001b[0mbest_thresh\u001b[0m\u001b[0;34m,\u001b[0m \u001b[0mbest_params\u001b[0m \u001b[0;34m=\u001b[0m \u001b[0mgrid_search\u001b[0m\u001b[0;34m(\u001b[0m\u001b[0mx_train\u001b[0m\u001b[0;34m,\u001b[0m \u001b[0my_train\u001b[0m\u001b[0;34m,\u001b[0m \u001b[0mparam_grid\u001b[0m\u001b[0;34m)\u001b[0m\u001b[0;34m\u001b[0m\u001b[0;34m\u001b[0m\u001b[0m\n\u001b[0m",
      "\u001b[0;32m~/projects/cours/predilex_ENS_challenge/utils.py\u001b[0m in \u001b[0;36mgrid_search\u001b[0;34m(x, y, params, plot)\u001b[0m\n\u001b[1;32m    144\u001b[0m                     \u001b[0;31m# threshs are optimal thresh that minimize recall difference on\u001b[0m\u001b[0;34m\u001b[0m\u001b[0;34m\u001b[0m\u001b[0;34m\u001b[0m\u001b[0m\n\u001b[1;32m    145\u001b[0m                     \u001b[0;31m# the corresponding validation set.\u001b[0m\u001b[0;34m\u001b[0m\u001b[0;34m\u001b[0m\u001b[0;34m\u001b[0m\u001b[0m\n\u001b[0;32m--> 146\u001b[0;31m                     \u001b[0maurocs\u001b[0m\u001b[0;34m,\u001b[0m \u001b[0mthreshs\u001b[0m \u001b[0;34m=\u001b[0m \u001b[0mcross_val\u001b[0m\u001b[0;34m(\u001b[0m\u001b[0mx\u001b[0m\u001b[0;34m,\u001b[0m \u001b[0my\u001b[0m\u001b[0;34m,\u001b[0m \u001b[0mclassifier\u001b[0m\u001b[0;34m,\u001b[0m\u001b[0mcv\u001b[0m \u001b[0;34m=\u001b[0m \u001b[0;36m5\u001b[0m\u001b[0;34m,\u001b[0m \u001b[0mplot\u001b[0m \u001b[0;34m=\u001b[0m \u001b[0mplot\u001b[0m\u001b[0;34m)\u001b[0m\u001b[0;34m\u001b[0m\u001b[0;34m\u001b[0m\u001b[0m\n\u001b[0m\u001b[1;32m    147\u001b[0m                     \u001b[0mscore\u001b[0m \u001b[0;34m=\u001b[0m \u001b[0mnp\u001b[0m\u001b[0;34m.\u001b[0m\u001b[0mmean\u001b[0m\u001b[0;34m(\u001b[0m\u001b[0maurocs\u001b[0m\u001b[0;34m)\u001b[0m\u001b[0;34m\u001b[0m\u001b[0;34m\u001b[0m\u001b[0m\n\u001b[1;32m    148\u001b[0m                     \u001b[0mprint\u001b[0m\u001b[0;34m(\u001b[0m\u001b[0;34m'step {}/{}, '\u001b[0m\u001b[0;34m.\u001b[0m\u001b[0mformat\u001b[0m\u001b[0;34m(\u001b[0m\u001b[0mcount\u001b[0m\u001b[0;34m,\u001b[0m \u001b[0;36m36\u001b[0m\u001b[0;34m)\u001b[0m\u001b[0;34m,\u001b[0m \u001b[0mend\u001b[0m \u001b[0;34m=\u001b[0m \u001b[0;34m'\\r'\u001b[0m\u001b[0;34m)\u001b[0m\u001b[0;34m\u001b[0m\u001b[0;34m\u001b[0m\u001b[0m\n",
      "\u001b[0;32m~/projects/cours/predilex_ENS_challenge/utils.py\u001b[0m in \u001b[0;36mcross_val\u001b[0;34m(x, y, classifier, cv, plot)\u001b[0m\n\u001b[1;32m    105\u001b[0m         \u001b[0my_train\u001b[0m\u001b[0;34m,\u001b[0m \u001b[0my_val\u001b[0m \u001b[0;34m=\u001b[0m \u001b[0my\u001b[0m\u001b[0;34m[\u001b[0m\u001b[0mtrain_ind\u001b[0m\u001b[0;34m]\u001b[0m\u001b[0;34m,\u001b[0m \u001b[0my\u001b[0m\u001b[0;34m[\u001b[0m\u001b[0mval_ind\u001b[0m\u001b[0;34m]\u001b[0m\u001b[0;34m\u001b[0m\u001b[0;34m\u001b[0m\u001b[0m\n\u001b[1;32m    106\u001b[0m \u001b[0;34m\u001b[0m\u001b[0m\n\u001b[0;32m--> 107\u001b[0;31m         \u001b[0mclassifier\u001b[0m\u001b[0;34m.\u001b[0m\u001b[0mfit\u001b[0m\u001b[0;34m(\u001b[0m\u001b[0mx_train\u001b[0m\u001b[0;34m,\u001b[0m \u001b[0my_train\u001b[0m\u001b[0;34m)\u001b[0m\u001b[0;34m\u001b[0m\u001b[0;34m\u001b[0m\u001b[0m\n\u001b[0m\u001b[1;32m    108\u001b[0m \u001b[0;34m\u001b[0m\u001b[0m\n\u001b[1;32m    109\u001b[0m         \u001b[0;31m#pred = classifier.predict(x_val)\u001b[0m\u001b[0;34m\u001b[0m\u001b[0;34m\u001b[0m\u001b[0;34m\u001b[0m\u001b[0m\n",
      "\u001b[0;32m~/anaconda3/lib/python3.7/site-packages/xgboost/sklearn.py\u001b[0m in \u001b[0;36mfit\u001b[0;34m(self, X, y, sample_weight, base_margin, eval_set, eval_metric, early_stopping_rounds, verbose, xgb_model, sample_weight_eval_set, callbacks)\u001b[0m\n\u001b[1;32m    821\u001b[0m                               \u001b[0mevals_result\u001b[0m\u001b[0;34m=\u001b[0m\u001b[0mevals_result\u001b[0m\u001b[0;34m,\u001b[0m \u001b[0mobj\u001b[0m\u001b[0;34m=\u001b[0m\u001b[0mobj\u001b[0m\u001b[0;34m,\u001b[0m \u001b[0mfeval\u001b[0m\u001b[0;34m=\u001b[0m\u001b[0mfeval\u001b[0m\u001b[0;34m,\u001b[0m\u001b[0;34m\u001b[0m\u001b[0;34m\u001b[0m\u001b[0m\n\u001b[1;32m    822\u001b[0m                               \u001b[0mverbose_eval\u001b[0m\u001b[0;34m=\u001b[0m\u001b[0mverbose\u001b[0m\u001b[0;34m,\u001b[0m \u001b[0mxgb_model\u001b[0m\u001b[0;34m=\u001b[0m\u001b[0mxgb_model\u001b[0m\u001b[0;34m,\u001b[0m\u001b[0;34m\u001b[0m\u001b[0;34m\u001b[0m\u001b[0m\n\u001b[0;32m--> 823\u001b[0;31m                               callbacks=callbacks)\n\u001b[0m\u001b[1;32m    824\u001b[0m \u001b[0;34m\u001b[0m\u001b[0m\n\u001b[1;32m    825\u001b[0m         \u001b[0mself\u001b[0m\u001b[0;34m.\u001b[0m\u001b[0mobjective\u001b[0m \u001b[0;34m=\u001b[0m \u001b[0mxgb_options\u001b[0m\u001b[0;34m[\u001b[0m\u001b[0;34m\"objective\"\u001b[0m\u001b[0;34m]\u001b[0m\u001b[0;34m\u001b[0m\u001b[0;34m\u001b[0m\u001b[0m\n",
      "\u001b[0;32m~/anaconda3/lib/python3.7/site-packages/xgboost/training.py\u001b[0m in \u001b[0;36mtrain\u001b[0;34m(params, dtrain, num_boost_round, evals, obj, feval, maximize, early_stopping_rounds, evals_result, verbose_eval, xgb_model, callbacks)\u001b[0m\n\u001b[1;32m    207\u001b[0m                            \u001b[0mevals\u001b[0m\u001b[0;34m=\u001b[0m\u001b[0mevals\u001b[0m\u001b[0;34m,\u001b[0m\u001b[0;34m\u001b[0m\u001b[0;34m\u001b[0m\u001b[0m\n\u001b[1;32m    208\u001b[0m                            \u001b[0mobj\u001b[0m\u001b[0;34m=\u001b[0m\u001b[0mobj\u001b[0m\u001b[0;34m,\u001b[0m \u001b[0mfeval\u001b[0m\u001b[0;34m=\u001b[0m\u001b[0mfeval\u001b[0m\u001b[0;34m,\u001b[0m\u001b[0;34m\u001b[0m\u001b[0;34m\u001b[0m\u001b[0m\n\u001b[0;32m--> 209\u001b[0;31m                            xgb_model=xgb_model, callbacks=callbacks)\n\u001b[0m\u001b[1;32m    210\u001b[0m \u001b[0;34m\u001b[0m\u001b[0m\n\u001b[1;32m    211\u001b[0m \u001b[0;34m\u001b[0m\u001b[0m\n",
      "\u001b[0;32m~/anaconda3/lib/python3.7/site-packages/xgboost/training.py\u001b[0m in \u001b[0;36m_train_internal\u001b[0;34m(params, dtrain, num_boost_round, evals, obj, feval, xgb_model, callbacks)\u001b[0m\n\u001b[1;32m     72\u001b[0m         \u001b[0;31m# Skip the first update if it is a recovery step.\u001b[0m\u001b[0;34m\u001b[0m\u001b[0;34m\u001b[0m\u001b[0;34m\u001b[0m\u001b[0m\n\u001b[1;32m     73\u001b[0m         \u001b[0;32mif\u001b[0m \u001b[0mversion\u001b[0m \u001b[0;34m%\u001b[0m \u001b[0;36m2\u001b[0m \u001b[0;34m==\u001b[0m \u001b[0;36m0\u001b[0m\u001b[0;34m:\u001b[0m\u001b[0;34m\u001b[0m\u001b[0;34m\u001b[0m\u001b[0m\n\u001b[0;32m---> 74\u001b[0;31m             \u001b[0mbst\u001b[0m\u001b[0;34m.\u001b[0m\u001b[0mupdate\u001b[0m\u001b[0;34m(\u001b[0m\u001b[0mdtrain\u001b[0m\u001b[0;34m,\u001b[0m \u001b[0mi\u001b[0m\u001b[0;34m,\u001b[0m \u001b[0mobj\u001b[0m\u001b[0;34m)\u001b[0m\u001b[0;34m\u001b[0m\u001b[0;34m\u001b[0m\u001b[0m\n\u001b[0m\u001b[1;32m     75\u001b[0m             \u001b[0mbst\u001b[0m\u001b[0;34m.\u001b[0m\u001b[0msave_rabit_checkpoint\u001b[0m\u001b[0;34m(\u001b[0m\u001b[0;34m)\u001b[0m\u001b[0;34m\u001b[0m\u001b[0;34m\u001b[0m\u001b[0m\n\u001b[1;32m     76\u001b[0m             \u001b[0mversion\u001b[0m \u001b[0;34m+=\u001b[0m \u001b[0;36m1\u001b[0m\u001b[0;34m\u001b[0m\u001b[0;34m\u001b[0m\u001b[0m\n",
      "\u001b[0;32m~/anaconda3/lib/python3.7/site-packages/xgboost/core.py\u001b[0m in \u001b[0;36mupdate\u001b[0;34m(self, dtrain, iteration, fobj)\u001b[0m\n\u001b[1;32m   1246\u001b[0m             _check_call(_LIB.XGBoosterUpdateOneIter(self.handle,\n\u001b[1;32m   1247\u001b[0m                                                     \u001b[0mctypes\u001b[0m\u001b[0;34m.\u001b[0m\u001b[0mc_int\u001b[0m\u001b[0;34m(\u001b[0m\u001b[0miteration\u001b[0m\u001b[0;34m)\u001b[0m\u001b[0;34m,\u001b[0m\u001b[0;34m\u001b[0m\u001b[0;34m\u001b[0m\u001b[0m\n\u001b[0;32m-> 1248\u001b[0;31m                                                     dtrain.handle))\n\u001b[0m\u001b[1;32m   1249\u001b[0m         \u001b[0;32melse\u001b[0m\u001b[0;34m:\u001b[0m\u001b[0;34m\u001b[0m\u001b[0;34m\u001b[0m\u001b[0m\n\u001b[1;32m   1250\u001b[0m             \u001b[0mpred\u001b[0m \u001b[0;34m=\u001b[0m \u001b[0mself\u001b[0m\u001b[0;34m.\u001b[0m\u001b[0mpredict\u001b[0m\u001b[0;34m(\u001b[0m\u001b[0mdtrain\u001b[0m\u001b[0;34m,\u001b[0m \u001b[0mtraining\u001b[0m\u001b[0;34m=\u001b[0m\u001b[0;32mTrue\u001b[0m\u001b[0;34m)\u001b[0m\u001b[0;34m\u001b[0m\u001b[0;34m\u001b[0m\u001b[0m\n",
      "\u001b[0;31mKeyboardInterrupt\u001b[0m: "
     ]
    }
   ],
   "source": [
    "random_state = 42\n",
    "\n",
    "param_grid = {\n",
    "    'max_depth': [3, 5],\n",
    "    'learning_rate': [.1],\n",
    "    'subsample': [.7, .9],\n",
    "    'colsample_bytree': [.7, .9],\n",
    "}\n",
    "classifier, best_thresh, best_params = grid_search(x_train, y_train, param_grid)"
   ]
  },
  {
   "cell_type": "code",
   "execution_count": 73,
   "metadata": {},
   "outputs": [],
   "source": [
    "classifier = XGBClassifier(max_depth = 5,\n",
    "                           learning_rate = 0.1,\n",
    "                           subsample = 0.7,\n",
    "                           colsample_bytree = 0.9,\n",
    "                           random_state = 42)"
   ]
  },
  {
   "cell_type": "code",
   "execution_count": 74,
   "metadata": {
    "scrolled": false
   },
   "outputs": [
    {
     "data": {
      "text/plain": [
       "XGBClassifier(base_score=0.5, booster=None, colsample_bylevel=1,\n",
       "              colsample_bynode=1, colsample_bytree=0.9, gamma=0, gpu_id=-1,\n",
       "              importance_type='gain', interaction_constraints=None,\n",
       "              learning_rate=0.1, max_delta_step=0, max_depth=5,\n",
       "              min_child_weight=1, missing=nan, monotone_constraints=None,\n",
       "              n_estimators=100, n_jobs=0, num_parallel_tree=1,\n",
       "              objective='binary:logistic', random_state=42, reg_alpha=0,\n",
       "              reg_lambda=1, scale_pos_weight=1, subsample=0.7, tree_method=None,\n",
       "              validate_parameters=False, verbosity=None)"
      ]
     },
     "execution_count": 74,
     "metadata": {},
     "output_type": "execute_result"
    }
   ],
   "source": [
    "classifier.fit(x_train, y_train)"
   ]
  },
  {
   "cell_type": "code",
   "execution_count": 75,
   "metadata": {},
   "outputs": [],
   "source": [
    "proba = classifier.predict_proba(x_train)"
   ]
  },
  {
   "cell_type": "code",
   "execution_count": 76,
   "metadata": {},
   "outputs": [
    {
     "data": {
      "image/png": "[encoded data removed]",
      "text/plain": [
       "<Figure size 432x288 with 1 Axes>"
      ]
     },
     "metadata": {
      "needs_background": "light"
     },
     "output_type": "display_data"
    },
    {
     "name": "stdout",
     "output_type": "stream",
     "text": [
      "optimal threshold is 0.10762890428304672\n"
     ]
    }
   ],
   "source": [
    "t, _ = find_opti_thresh(y_train, proba[:,1])"
   ]
  },
  {
   "cell_type": "markdown",
   "metadata": {},
   "source": [
    "# 4. Predict Accident Date in Texts"
   ]
  },
  {
   "cell_type": "code",
   "execution_count": 77,
   "metadata": {},
   "outputs": [
    {
     "name": "stderr",
     "output_type": "stream",
     "text": [
      "100%|██████████| 770/770 [00:25<00:00, 30.56it/s]\n"
     ]
    }
   ],
   "source": [
    "candidates = []\n",
    "candidates_txt = []\n",
    "sentence_dates = []\n",
    "true_dates = []\n",
    "for i in tqdm(range(len(tr_texts))):\n",
    "    if y_tr_df.iloc[i]['date_accident'] != 'n.c.':\n",
    "        text = tr_texts[i]\n",
    "        index = []\n",
    "        dates = []\n",
    "        for k, pattern in enumerate(patterns):\n",
    "            index.extend(re.finditer(pattern, text))\n",
    "            dates.extend(re.findall(patterns_bis[k], text))\n",
    "            \n",
    "        zipped = sorted(list(zip(index,dates)), key = lambda x: x[0].start())\n",
    "        for j in range((len(index))):\n",
    "            index[j] = zipped[j][0]\n",
    "            dates[j] = zipped[j][1]\n",
    "        index = index[3:]\n",
    "        dates = dates[3:]\n",
    "\n",
    "        data = []\n",
    "        data_txt = []\n",
    "        s_d = []\n",
    "        for k, ind in enumerate(index):\n",
    "            day, month, year = dates[k][0], dates[k][1], dates[k][2]\n",
    "            month = month.lower().replace('é', 'e').replace('û', 'u')\n",
    "            if month in months_str_to_int or month in months_str_to_int.values():\n",
    "                day, month, year = format_date(day, month, year)\n",
    "                date = f\"{year}-{month}-{day}\"\n",
    "                s_d.append(date)\n",
    "                \n",
    "                match1 = re.match(r\"[^\\.]*(\\.)\", text[ind.end(): ind.end() + window])        \n",
    "                match2 = re.match(r\"[^\\.]*(\\.)\", text[ind.start() - window : ind.start()][::-1])\n",
    "                if match2: start = len(text[:ind.start()]) - match2.end() + 1\n",
    "                else: start = ind.start() - window\n",
    "                if match1: end = len(text[:ind.end()]) + match1.end()\n",
    "                else: end = ind.end() + window\n",
    "\n",
    "                chunk = text[start:end]\n",
    "                if start == ind.start() - window: chunk = re.sub(r\"^[^\\s]*\\s*\", \"\", chunk)\n",
    "                if end == ind.end() + window: chunk = re.sub(r\"\\s*[^\\s]*$\", \"\", chunk)\n",
    "                    \n",
    "                data_txt.append(chunk)\n",
    "\n",
    "                chunk = clean2(chunk, lemmatizer, stemmer, stop_words = stop_words)\n",
    "                data.append(chunk)\n",
    "\n",
    "        candidates.append(data)\n",
    "        candidates_txt.append(data_txt)\n",
    "        sentence_dates.append(s_d)\n",
    "        true_dates.append(y_tr_df.iloc[i]['date_accident'])"
   ]
  },
  {
   "cell_type": "code",
   "execution_count": 78,
   "metadata": {},
   "outputs": [],
   "source": [
    "for i in range(len(candidates)):\n",
    "    candidate = TF_IDF.transform(candidates[i]).toarray()\n",
    "    candidates[i] = candidate"
   ]
  },
  {
   "cell_type": "code",
   "execution_count": 79,
   "metadata": {},
   "outputs": [],
   "source": [
    "preds = []\n",
    "all_scores = []\n",
    "for i, candidate in enumerate(candidates):\n",
    "    out = classifier.predict_proba(candidate)[:,1]\n",
    "    all_scores.append(list(out))\n",
    "    pred = np.argmax(out)\n",
    "    score = np.max(out)\n",
    "    \n",
    "    pred_date = sentence_dates[i][pred]\n",
    "    preds.append(pred_date)"
   ]
  },
  {
   "cell_type": "code",
   "execution_count": 80,
   "metadata": {},
   "outputs": [
    {
     "data": {
      "text/plain": [
       "0.8411843876177658"
      ]
     },
     "execution_count": 80,
     "metadata": {},
     "output_type": "execute_result"
    }
   ],
   "source": [
    "accuracy = 0\n",
    "for i in range(len(preds)):\n",
    "    if preds[i] == true_dates[i]:\n",
    "        accuracy += 1\n",
    "accuracy/len(preds)"
   ]
  },
  {
   "cell_type": "markdown",
   "metadata": {},
   "source": [
    "#  5. Predict Test Data "
   ]
  },
  {
   "cell_type": "code",
   "execution_count": 83,
   "metadata": {},
   "outputs": [],
   "source": [
    "#x_test data\n",
    "x_te_df = pd.read_csv('test_folder/x_test_ids.csv', index_col=0)\n",
    "te_dir = \"test_folder/txt_files/\"\n",
    "te_files = x_te_df['filename'].values\n",
    "te_texts = []\n",
    "for te_file in te_files:\n",
    "    f = open(os.path.join(te_dir, te_file), \"r\")\n",
    "    f = f.read()\n",
    "    f = clean1(f)\n",
    "    te_texts.append(f)"
   ]
  },
  {
   "cell_type": "code",
   "execution_count": 84,
   "metadata": {},
   "outputs": [
    {
     "name": "stderr",
     "output_type": "stream",
     "text": [
      "100%|██████████| 257/257 [00:07<00:00, 33.00it/s]\n"
     ]
    }
   ],
   "source": [
    "candidates = []\n",
    "sentence_dates = []\n",
    "for i in tqdm(range(len(te_texts))):\n",
    "    text = te_texts[i]\n",
    "    index = []\n",
    "    dates = []\n",
    "    for k, pattern in enumerate(patterns):\n",
    "        index.extend(re.finditer(pattern, text))\n",
    "        dates.extend(re.findall(patterns_bis[k], text))\n",
    "\n",
    "    zipped = sorted(list(zip(index,dates)), key = lambda x: x[0].start())\n",
    "    for j in range((len(index))):\n",
    "        index[j] = zipped[j][0]\n",
    "        dates[j] = zipped[j][1]\n",
    "    index = index[3:]\n",
    "    dates = dates[3:]\n",
    "    \n",
    "    data = []\n",
    "    s_d = []\n",
    "    for k, ind in enumerate(index):\n",
    "        day, month, year = dates[k][0], dates[k][1], dates[k][2]\n",
    "        month = month.lower().replace('é', 'e').replace('û', 'u')\n",
    "        if month in months_str_to_int:\n",
    "            day, month, year = format_date(day, month, year)\n",
    "            date = f\"{year}-{month}-{day}\"\n",
    "            s_d.append(date)\n",
    "\n",
    "            match1 = re.match(r\"[^\\.]*(\\.)\", text[ind.end(): ind.end() + window])        \n",
    "            match2 = re.match(r\"[^\\.]*(\\.)\", text[ind.start() - window : ind.start()][::-1])\n",
    "            if match2: start = len(text[:ind.start()]) - match2.end() + 1\n",
    "            else: start = ind.start() - window\n",
    "            if match1: end = len(text[:ind.end()]) + match1.end()\n",
    "            else: end = ind.end() + window\n",
    "\n",
    "            chunk = text[start:end]\n",
    "            if start == ind.start() - window: chunk = re.sub(r\"^[^\\s]*\\s*\", \"\", chunk)\n",
    "            if end == ind.end() + window: chunk = re.sub(r\"\\s*[^\\s]*$\", \"\", chunk)\n",
    "\n",
    "            chunk = clean2(chunk, lemmatizer, stemmer, stop_words = stop_words)\n",
    "            data.append(chunk)\n",
    "\n",
    "    candidates.append(data)\n",
    "    sentence_dates.append(s_d)"
   ]
  },
  {
   "cell_type": "code",
   "execution_count": 85,
   "metadata": {},
   "outputs": [],
   "source": [
    "for i in range(len(candidates)):\n",
    "    candidate = TF_IDF.transform(candidates[i]).toarray()\n",
    "    candidates[i] = candidate"
   ]
  },
  {
   "cell_type": "code",
   "execution_count": 86,
   "metadata": {},
   "outputs": [],
   "source": [
    "preds = []\n",
    "for i, candidate in enumerate(candidates):\n",
    "    pred = np.argmax(classifier.predict_proba(candidate)[:,1])\n",
    "    score = np.max(classifier.predict_proba(candidate)[:,1])\n",
    "    if score < t: preds.append('n.c.')\n",
    "    else:\n",
    "        pred_date = sentence_dates[i][pred]\n",
    "        preds.append(pred_date)"
   ]
  },
  {
   "cell_type": "code",
   "execution_count": 87,
   "metadata": {},
   "outputs": [],
   "source": [
    "np.save('results/accident.npy', preds)"
   ]
  },
  {
   "cell_type": "code",
   "execution_count": null,
   "metadata": {},
   "outputs": [],
   "source": []
  }
 ],
 "metadata": {
  "kernelspec": {
   "display_name": "Python 3",
   "language": "python",
   "name": "python3"
  },
  "language_info": {
   "codemirror_mode": {
    "name": "ipython",
    "version": 3
   },
   "file_extension": ".py",
   "mimetype": "text/x-python",
   "name": "python",
   "nbconvert_exporter": "python",
   "pygments_lexer": "ipython3",
   "version": "3.7.3"
  }
 },
 "nbformat": 4,
 "nbformat_minor": 2
}
