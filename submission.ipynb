{
 "cells": [
  {
   "cell_type": "code",
   "execution_count": 9,
   "metadata": {},
   "outputs": [],
   "source": [
    "import numpy as np\n",
    "import pandas as pd"
   ]
  },
  {
   "cell_type": "code",
   "execution_count": 10,
   "metadata": {},
   "outputs": [],
   "source": [
    "gender = list(np.load('results/gender.npy'))\n",
    "accident = np.load('results/accident.npy')\n",
    "consolidation = list(np.load('results/consolidation.npy'))"
   ]
  },
  {
   "cell_type": "code",
   "execution_count": 11,
   "metadata": {},
   "outputs": [],
   "source": [
    "for i, x in enumerate(gender):\n",
    "    if x == 1: gender[i] = 'homme'\n",
    "    else: gender[i] = 'femme'"
   ]
  },
  {
   "cell_type": "code",
   "execution_count": 12,
   "metadata": {},
   "outputs": [],
   "source": [
    "result = pd.read_csv('test_folder/x_test_ids.csv')"
   ]
  },
  {
   "cell_type": "code",
   "execution_count": 13,
   "metadata": {},
   "outputs": [],
   "source": [
    "result['sexe'] = gender\n",
    "result['date_accident'] = accident\n",
    "result['date_consolidation'] = consolidation"
   ]
  },
  {
   "cell_type": "code",
   "execution_count": 14,
   "metadata": {},
   "outputs": [],
   "source": [
    "result.index = result['ID']"
   ]
  },
  {
   "cell_type": "code",
   "execution_count": 15,
   "metadata": {},
   "outputs": [],
   "source": [
    "result = result.drop('ID', axis = 1)"
   ]
  },
  {
   "cell_type": "code",
   "execution_count": 16,
   "metadata": {},
   "outputs": [
    {
     "data": {
      "text/html": [
       "<div>\n",
       "<style scoped>\n",
       "    .dataframe tbody tr th:only-of-type {\n",
       "        vertical-align: middle;\n",
       "    }\n",
       "\n",
       "    .dataframe tbody tr th {\n",
       "        vertical-align: top;\n",
       "    }\n",
       "\n",
       "    .dataframe thead th {\n",
       "        text-align: right;\n",
       "    }\n",
       "</style>\n",
       "<table border=\"1\" class=\"dataframe\">\n",
       "  <thead>\n",
       "    <tr style=\"text-align: right;\">\n",
       "      <th></th>\n",
       "      <th>filename</th>\n",
       "      <th>sexe</th>\n",
       "      <th>date_accident</th>\n",
       "      <th>date_consolidation</th>\n",
       "    </tr>\n",
       "    <tr>\n",
       "      <th>ID</th>\n",
       "      <th></th>\n",
       "      <th></th>\n",
       "      <th></th>\n",
       "      <th></th>\n",
       "    </tr>\n",
       "  </thead>\n",
       "  <tbody>\n",
       "    <tr>\n",
       "      <th>770</th>\n",
       "      <td>Agen_1400036.txt</td>\n",
       "      <td>homme</td>\n",
       "      <td>2011-04-20</td>\n",
       "      <td>n.c.</td>\n",
       "    </tr>\n",
       "    <tr>\n",
       "      <th>771</th>\n",
       "      <td>Agen_20011399.txt</td>\n",
       "      <td>homme</td>\n",
       "      <td>1996-07-05</td>\n",
       "      <td>n.c.</td>\n",
       "    </tr>\n",
       "    <tr>\n",
       "      <th>772</th>\n",
       "      <td>Agen_21013.txt</td>\n",
       "      <td>homme</td>\n",
       "      <td>1989-05-11</td>\n",
       "      <td>n.c.</td>\n",
       "    </tr>\n",
       "    <tr>\n",
       "      <th>773</th>\n",
       "      <td>Agen_31076.txt</td>\n",
       "      <td>homme</td>\n",
       "      <td>1998-07-09</td>\n",
       "      <td>n.c.</td>\n",
       "    </tr>\n",
       "    <tr>\n",
       "      <th>774</th>\n",
       "      <td>Agen_3436.txt</td>\n",
       "      <td>homme</td>\n",
       "      <td>1999-05-28</td>\n",
       "      <td>2001-05-28</td>\n",
       "    </tr>\n",
       "    <tr>\n",
       "      <th>...</th>\n",
       "      <td>...</td>\n",
       "      <td>...</td>\n",
       "      <td>...</td>\n",
       "      <td>...</td>\n",
       "    </tr>\n",
       "    <tr>\n",
       "      <th>1022</th>\n",
       "      <td>Versailles_1102996.txt</td>\n",
       "      <td>homme</td>\n",
       "      <td>2011-05-05</td>\n",
       "      <td>2012-09-17</td>\n",
       "    </tr>\n",
       "    <tr>\n",
       "      <th>1023</th>\n",
       "      <td>Versailles_1404397.txt</td>\n",
       "      <td>femme</td>\n",
       "      <td>n.c.</td>\n",
       "      <td>1968-05-20</td>\n",
       "    </tr>\n",
       "    <tr>\n",
       "      <th>1024</th>\n",
       "      <td>Versailles_1508232.txt</td>\n",
       "      <td>femme</td>\n",
       "      <td>2014-08-20</td>\n",
       "      <td>2012-01-26</td>\n",
       "    </tr>\n",
       "    <tr>\n",
       "      <th>1025</th>\n",
       "      <td>Versailles_45687.txt</td>\n",
       "      <td>homme</td>\n",
       "      <td>2000-10-09</td>\n",
       "      <td>2005-12-01</td>\n",
       "    </tr>\n",
       "    <tr>\n",
       "      <th>1026</th>\n",
       "      <td>Versailles_64952.txt</td>\n",
       "      <td>femme</td>\n",
       "      <td>1987-04-29</td>\n",
       "      <td>n.c.</td>\n",
       "    </tr>\n",
       "  </tbody>\n",
       "</table>\n",
       "<p>257 rows × 4 columns</p>\n",
       "</div>"
      ],
      "text/plain": [
       "                    filename   sexe date_accident date_consolidation\n",
       "ID                                                                  \n",
       "770         Agen_1400036.txt  homme    2011-04-20               n.c.\n",
       "771        Agen_20011399.txt  homme    1996-07-05               n.c.\n",
       "772           Agen_21013.txt  homme    1989-05-11               n.c.\n",
       "773           Agen_31076.txt  homme    1998-07-09               n.c.\n",
       "774            Agen_3436.txt  homme    1999-05-28         2001-05-28\n",
       "...                      ...    ...           ...                ...\n",
       "1022  Versailles_1102996.txt  homme    2011-05-05         2012-09-17\n",
       "1023  Versailles_1404397.txt  femme          n.c.         1968-05-20\n",
       "1024  Versailles_1508232.txt  femme    2014-08-20         2012-01-26\n",
       "1025    Versailles_45687.txt  homme    2000-10-09         2005-12-01\n",
       "1026    Versailles_64952.txt  femme    1987-04-29               n.c.\n",
       "\n",
       "[257 rows x 4 columns]"
      ]
     },
     "execution_count": 16,
     "metadata": {},
     "output_type": "execute_result"
    }
   ],
   "source": [
    "result"
   ]
  },
  {
   "cell_type": "code",
   "execution_count": 17,
   "metadata": {},
   "outputs": [],
   "source": [
    "result.to_csv('results/result.csv')"
   ]
  },
  {
   "cell_type": "code",
   "execution_count": null,
   "metadata": {},
   "outputs": [],
   "source": []
  },
  {
   "cell_type": "code",
   "execution_count": null,
   "metadata": {},
   "outputs": [],
   "source": []
  }
 ],
 "metadata": {
  "kernelspec": {
   "display_name": "Python 3",
   "language": "python",
   "name": "python3"
  },
  "language_info": {
   "codemirror_mode": {
    "name": "ipython",
    "version": 3
   },
   "file_extension": ".py",
   "mimetype": "text/x-python",
   "name": "python",
   "nbconvert_exporter": "python",
   "pygments_lexer": "ipython3",
   "version": "3.7.3"
  }
 },
 "nbformat": 4,
 "nbformat_minor": 2
}
