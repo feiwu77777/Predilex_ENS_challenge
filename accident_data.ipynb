{
 "cells": [
  {
   "cell_type": "markdown",
   "metadata": {},
   "source": [
    "# import"
   ]
  },
  {
   "cell_type": "code",
   "execution_count": 1,
   "metadata": {},
   "outputs": [],
   "source": [
    "import os\n",
    "import re\n",
    "import pandas as pd\n",
    "from utils import *"
   ]
  },
  {
   "cell_type": "markdown",
   "metadata": {},
   "source": [
    "# 0. Load data"
   ]
  },
  {
   "cell_type": "code",
   "execution_count": 2,
   "metadata": {},
   "outputs": [],
   "source": [
    "# author code\n",
    "x_tr_df = pd.read_csv('train_folder/x_train_ids.csv', index_col=0)\n",
    "tr_dir = \"train_folder/txt_files/\"\n",
    "tr_files = x_tr_df['filename'].values\n",
    "\n",
    "\n",
    "tr_texts = []\n",
    "for tr_file in tr_files:\n",
    "    f = open(os.path.join(tr_dir, tr_file), \"r\")\n",
    "    ff = f.read()\n",
    "    ff = clean1(ff)\n",
    "    tr_texts.append(ff)\n",
    "# tr_texts has all the texts in it"
   ]
  },
  {
   "cell_type": "code",
   "execution_count": 3,
   "metadata": {},
   "outputs": [],
   "source": [
    "#y_train data\n",
    "y_tr_df = pd.read_csv('./Y_train_predilex.csv', index_col=0)"
   ]
  },
  {
   "cell_type": "code",
   "execution_count": 4,
   "metadata": {},
   "outputs": [
    {
     "data": {
      "text/html": [
       "<div>\n",
       "<style scoped>\n",
       "    .dataframe tbody tr th:only-of-type {\n",
       "        vertical-align: middle;\n",
       "    }\n",
       "\n",
       "    .dataframe tbody tr th {\n",
       "        vertical-align: top;\n",
       "    }\n",
       "\n",
       "    .dataframe thead th {\n",
       "        text-align: right;\n",
       "    }\n",
       "</style>\n",
       "<table border=\"1\" class=\"dataframe\">\n",
       "  <thead>\n",
       "    <tr style=\"text-align: right;\">\n",
       "      <th></th>\n",
       "      <th>sexe</th>\n",
       "      <th>date_accident</th>\n",
       "      <th>date_consolidation</th>\n",
       "    </tr>\n",
       "    <tr>\n",
       "      <th>ID</th>\n",
       "      <th></th>\n",
       "      <th></th>\n",
       "      <th></th>\n",
       "    </tr>\n",
       "  </thead>\n",
       "  <tbody>\n",
       "    <tr>\n",
       "      <th>0</th>\n",
       "      <td>homme</td>\n",
       "      <td>1991-04-09</td>\n",
       "      <td>n.c.</td>\n",
       "    </tr>\n",
       "    <tr>\n",
       "      <th>1</th>\n",
       "      <td>homme</td>\n",
       "      <td>2005-06-10</td>\n",
       "      <td>2010-01-19</td>\n",
       "    </tr>\n",
       "    <tr>\n",
       "      <th>2</th>\n",
       "      <td>femme</td>\n",
       "      <td>1997-09-26</td>\n",
       "      <td>n.c.</td>\n",
       "    </tr>\n",
       "    <tr>\n",
       "      <th>3</th>\n",
       "      <td>femme</td>\n",
       "      <td>1982-08-07</td>\n",
       "      <td>1982-11-07</td>\n",
       "    </tr>\n",
       "    <tr>\n",
       "      <th>4</th>\n",
       "      <td>homme</td>\n",
       "      <td>1996-11-26</td>\n",
       "      <td>n.c.</td>\n",
       "    </tr>\n",
       "  </tbody>\n",
       "</table>\n",
       "</div>"
      ],
      "text/plain": [
       "     sexe date_accident date_consolidation\n",
       "ID                                        \n",
       "0   homme    1991-04-09               n.c.\n",
       "1   homme    2005-06-10         2010-01-19\n",
       "2   femme    1997-09-26               n.c.\n",
       "3   femme    1982-08-07         1982-11-07\n",
       "4   homme    1996-11-26               n.c."
      ]
     },
     "execution_count": 4,
     "metadata": {},
     "output_type": "execute_result"
    }
   ],
   "source": [
    "y_tr_df.head()"
   ]
  },
  {
   "cell_type": "markdown",
   "metadata": {},
   "source": [
    "# 1. Find all possible patterns for dates"
   ]
  },
  {
   "cell_type": "code",
   "execution_count": 7,
   "metadata": {},
   "outputs": [],
   "source": [
    "# all index of the year of the accident \n",
    "all_dates = []\n",
    "for i in range(len(tr_texts)):\n",
    "    if y_tr_df['date_accident'][i] != 'n.c.':\n",
    "        ff = [m.start() for m in re.finditer(y_tr_df['date_accident'][i][:4], tr_texts[i])]\n",
    "    else:\n",
    "        ff = []\n",
    "    all_dates.append(ff)"
   ]
  },
  {
   "cell_type": "code",
   "execution_count": 8,
   "metadata": {},
   "outputs": [],
   "source": [
    "# check if there is the day digit near the year digit\n",
    "sentences = []\n",
    "for ind in range(len(tr_texts)):\n",
    "    sentence = []\n",
    "    window = 20\n",
    "    for date in all_dates[ind]:\n",
    "        left = tr_texts[ind][date - window : date]\n",
    "        right = tr_texts[ind][date + 4 : date + window]\n",
    "        left_num = re.findall(r'\\d', left)\n",
    "        right_num = re.findall(r'\\d', right)\n",
    "        if len(left_num) == 0 & len(right_num) == 0:\n",
    "            pass\n",
    "        else:\n",
    "            text = tr_texts[ind][date - window : date + window]\n",
    "            sentence.append(text)\n",
    "    sentences.append(sentence)"
   ]
  },
  {
   "cell_type": "code",
   "execution_count": 9,
   "metadata": {},
   "outputs": [],
   "source": [
    "# find all pattern of dates\n",
    "pattern1 = r\"\\d+ \\w+ \\d+\"\n",
    "pattern2 = r\"1° \\w+ \\d+\"\n",
    "pattern3 = r\"1er \\w+ \\d+\"\n",
    "pattern4 = r\"\\d+\\.\\d+\\.\\d+\"\n",
    "pattern5 = r\"\\d+/\\d+/\\d+\"\n",
    "pattern6 = r\"\\d+ / \\d+ / \\d+\"\n",
    "pattern7 = r\"\\d+/ \\d+/ \\d+\"\n",
    "pattern8 = r\"\\d+\\. \\d+\\. \\d+\"\n",
    "\n",
    "\n",
    "pattern1_bis = r\"(\\d+) (\\w+) (\\d+)\"\n",
    "pattern2_bis = r\"(1°) (\\w+) (\\d+)\"\n",
    "pattern3_bis = r\"(1er) (\\w+) (\\d+)\"\n",
    "pattern4_bis = r\"(\\d+)\\.(\\d+)\\.(\\d+)\"\n",
    "pattern5_bis = r\"(\\d+)/(\\d+)/(\\d+)\"\n",
    "pattern6_bis = r\"(\\d+) / (\\d+) / (\\d+)\"\n",
    "pattern7_bis = r\"(\\d+)/ (\\d+)/ (\\d+)\"\n",
    "pattern8_bis = r\"(\\d+)\\. (\\d+)\\. (\\d+)\"\n",
    "\n",
    "patterns = [pattern1, pattern2, pattern3, pattern4, pattern5, pattern6, pattern7, pattern8] \n",
    "patterns_bis = [pattern1_bis, pattern2_bis, pattern3_bis, pattern4_bis, pattern5_bis, pattern6_bis, pattern7_bis, pattern8_bis] "
   ]
  },
  {
   "cell_type": "code",
   "execution_count": 10,
   "metadata": {},
   "outputs": [],
   "source": [
    "# check the number of sentences that doesnt get detected using preious patterns\n",
    "dates = []\n",
    "fails = []\n",
    "for i in range(len(sentences)):\n",
    "    date = []\n",
    "    index = []\n",
    "    for sentence in sentences[i]:\n",
    "        l = []\n",
    "        for pattern in patterns:\n",
    "            l.extend(re.findall(pattern, sentence))\n",
    "        if len(l) == 0:\n",
    "            fails.append(sentence)\n",
    "        date.extend(l)\n",
    "    dates.append(date)"
   ]
  },
  {
   "cell_type": "code",
   "execution_count": 11,
   "metadata": {
    "scrolled": true
   },
   "outputs": [
    {
     "data": {
      "text/plain": [
       "71"
      ]
     },
     "execution_count": 11,
     "metadata": {},
     "output_type": "execute_result"
    }
   ],
   "source": [
    "len(fails)"
   ]
  },
  {
   "cell_type": "code",
   "execution_count": 18,
   "metadata": {
    "collapsed": true
   },
   "outputs": [
    {
     "data": {
      "text/plain": [
       "['9 cour d’appel d’agen audience publique ',\n",
       " '00908 republique francaise au nom du peu',\n",
       " ' 47910 agen cedex 9 n’ayant pas constitu',\n",
       " ' ordonnance 99-xxxx 1999-04-21 art. 1 ',\n",
       " '2 : 30. 321,00 € en 2003 : 48. 778,00 € ',\n",
       " 'rance au 1o juillet 2003 il convient de ',\n",
       " 'mpter du 1o juillet 2003 jusqu’au 27 aoû',\n",
       " 'de juin 2000 à août 2002 (7. 447 € 66 c.',\n",
       " '/1960 republique francaise au nom du peu',\n",
       " '; 3o) à chacun des enfants jean pierre, ',\n",
       " 'mai 2006 ; vu l’ordonnance de clôture en',\n",
       " 'e 11 années en se fondant sur les conclu',\n",
       " '03 + 11.115,01 € en 2004) correspondant ',\n",
       " '01 et le 1o juillet 2004 des indemnités ',\n",
       " 'ral sous le no 05 / 2003. appelante mada',\n",
       " '000 au mois d’avril 2001 ne permet pas à',\n",
       " 'il 1998 (et non pas 1997 comme indiqué p',\n",
       " '41 €) et l’exercice 2006 (181. 527 €) qu',\n",
       " 'janvier 2008 et mai 2000 ; il convient d',\n",
       " ' 2009 n° de rg: 08/02006 republique fran',\n",
       " 'no/2009 rôle no 08/02006 fonds de garant',\n",
       " ' juin 2010. une ordonnance de jonction a',\n",
       " ' étant de 2 %, le montant des préjudices',\n",
       " 'rticle l. 461-1, alinéa 2 du code de la ',\n",
       " ' avant 1990, l’implantation générale de ',\n",
       " 'de 17. 5 fibres, il n’a été décelé aucun',\n",
       " '05, que le contrôle n’avait été que seme',\n",
       " 'e depuis 1977, présentant par ailleurs u',\n",
       " ' de 2 %, en correspondance avec les sign',\n",
       " 'ticle r. 441-11, alinéa 1, du code de la',\n",
       " 'ticle r. 144-10, alinéa 2, du code de la',\n",
       " 'eur (promotion 1996-1998) comportant 950',\n",
       " ' la promotion 1996/ 1998, suivait alors,',\n",
       " '012 cour de cassation arrêt du 14 janvie',\n",
       " ' septembre 2005, d’un accident mortel du',\n",
       " 'omme de 2000 euros en application de l’a',\n",
       " 'plus de 3 % et présentait un “ abaque “ ',\n",
       " 'uillet 1973, soit pendant une période à ',\n",
       " 'foyer : 12 000 ¿ ; en application des di',\n",
       " 'lyne xxx ... 49800 andard monsieur nicol',\n",
       " 'lancier ... 49140 fontaine millon monsie',\n",
       " 'omas xxx ... 49800 andard monsieur mathi',\n",
       " ' serveur ... 49800 andard représentés pa',\n",
       " 'la somme de 3000 ¿ en application des di',\n",
       " '009 », leur action engagée le 7 décembre',\n",
       " 'a somme de 3 000 ¿ en application des di',\n",
       " 'a somme de 3 000 ¿ en application des di',\n",
       " ' octobre 1995 ; cependant, cette situati',\n",
       " 'ontant de 9 660 ¿. en application de l’a',\n",
       " 'mme de 8 000 ¿ le montant de l’indemnité',\n",
       " '2009, emportant reconnaissance du caract',\n",
       " '2009, emportant reconnaissance du caract',\n",
       " 'la somme de 3000 ¿ en application de l’a',\n",
       " 'aris-no du dossier 72007037 la caisse pr',\n",
       " 're 2016, mme xxx-chantal yyy, m. fred a.',\n",
       " 'rg no16/01956 ; - condamner m. sidoine o',\n",
       " ': 1o) madame xxx chantal yyy concubine d',\n",
       " 'mme de 1 500 euros en application de l’a',\n",
       " '4, 05 euros correspondant à la rente ann',\n",
       " '33, 81 euros représentant la différence ',\n",
       " 'le euros (1 000 €) en application des di',\n",
       " 'it 15 jours avant son admission à tatton',\n",
       " 'juillet 1972 soit pendant 65 jours, la s',\n",
       " '20 000 €) chacun, condamne le fiva à pay',\n",
       " 'uros (3 500 €) chacun au titre de leur p',\n",
       " ' 2000, - le taux d’incapacité permanente',\n",
       " 'êt de 2,5 % correspondant aux données éc',\n",
       " '1 ; que la proportionnalité de la valeur',\n",
       " 'ux de 2,5 % correspondant aux données éc',\n",
       " 'ous le no 10/269, condamne le fiva à pay',\n",
       " '/00378 autre décision avant dire droit r',\n",
       " 'de 2 000 euros par an après déduction de',\n",
       " ' et 23 690 euros en 2006. cependant, cet',\n",
       " '04 : 22 232 euros . 2005 : 20 394 euros ',\n",
       " '012 et qui a fait connaître son avis, do',\n",
       " 'mme de 2 000 euros en application des di',\n",
       " 'de 16 ans, jamais condamné et inconnu de',\n",
       " 'bre 2006 et février 2008) soit 77 508 eu',\n",
       " 'de 1 783 euros le montant de la rente an',\n",
       " 'mme de 1 500 euros en application de l’a',\n",
       " 'me de 1. 500 euros en application de l’a',\n",
       " 'e 2011, le fiva reconnaît que monsieur x',\n",
       " ' de 100 % et d’un montant de rente fixé ',\n",
       " 'ros (1. 500 euros) en application de l’a',\n",
       " 'mme de 1 500 euros en application de l’a',\n",
       " ' + 1 820, 50 représentant une somme tota',\n",
       " '6 santo pietro di tenda assisté de la sc',\n",
       " 'pnée grade 3 qui l’invalide au quotidien',\n",
       " 'ctobre 1955 ... ... 20090 ajaccio ayant ',\n",
       " 'er 1935, a été au contact de l’amiante s',\n",
       " 'ologie en 2002. cependant nous ne dispos',\n",
       " 'de 3 000, 00 euros en application de l’a',\n",
       " '8 939 euros comme montant de la rente po',\n",
       " 'e de mortalité 2006-2008 de la gazette d',\n",
       " 'raire de 20 euros pendant huit heures pa',\n",
       " 'e 3. 000, 00 euros en application de l’a',\n",
       " 'compagnement des 3 enfants de m. xxx : 8',\n",
       " 'moral des 5 petits-enfants de m. xxx : 3',\n",
       " '. 460, 47 euros), condamne en tant que d',\n",
       " '9 878, 05 euros), condamné en tant que d',\n",
       " 'mme de 3 000 euros en application de l’a',\n",
       " '2132) ... 59240 rosendael assisté de me ',\n",
       " ', 06 centimes), - condamné en tant que d',\n",
       " 'e 3. 000, 00 euros en application de l’a',\n",
       " 's (1. 920 euros), condamne le fonds d’in',\n",
       " '014 et qui a fait connaître son avis, do',\n",
       " 'in 1937, a exercé son activité professio',\n",
       " 'bre 2010 un taux d’incapacité de 15 %. i',\n",
       " ' saturation à 95 % en air ambiant ; qu’o',\n",
       " ' ischémique avec 2 infarctus et 3 pontag',\n",
       " ' 2 infarctus et 3 pontages, un diabète n',\n",
       " 'de 1 500, 00 euros en application de l’a',\n",
       " 'r 2007 que celui-ci n’a pas contesté. un',\n",
       " 'aux à 100 % de son incapacité fonctionne',\n",
       " 'de 3 000, 00 euros en application de i’a',\n",
       " 'uros (1 500 euros) en application des di',\n",
       " 'de 3 000, 00 euros en application de l’a',\n",
       " 's le no 14/ 48 présentant un lien de con',\n",
       " 'le numéro 14/ 48, condamne le fonds de g',\n",
       " 'os (1 500 euros), condamne le fonds d’in',\n",
       " 'os (5 000 euros), condamne le fonds de g',\n",
       " 'ddy yyy ... 20190 santa maria sicche ass',\n",
       " '013 cette juridiction a : - déclaré le d',\n",
       " '; réalisation de 5 inlaycores et 5 céram',\n",
       " 'fiva à 1 500 euros en application des di',\n",
       " '0 000 euros complémentaires . préjudice ',\n",
       " '0 000 euros complémentaires . préjudice ',\n",
       " '0 000 euros complémentaires . préjudice ',\n",
       " 'mme de 3 000 euros en application de l’a',\n",
       " '5 100 euros complémentaires . préjudice ',\n",
       " '0 000 euros complémentaires . préjudice ',\n",
       " ' 6 100 euro complémentaires -confirmer l',\n",
       " 'somme de 500 euros en application des di',\n",
       " ' euros (500 euros) en application des di',\n",
       " 'fiva à 3 000 euros en application des di',\n",
       " 'somme de 500 eruos en application des di',\n",
       " 'arcouet (50600) ... 20128 albitreccia dé',\n",
       " 'ajaccio (20000) ... 20128 grosseto prugn',\n",
       " 'x 28 cours napoléon 20000 ajaccio représ',\n",
       " 'sé à 17, 2774 ha en 2003, puis à 35, 525',\n",
       " 'e la brochure 2002/ 2003 de la chambre d',\n",
       " 'en date du 28 juin. 2006, le juge des ré',\n",
       " 'ctobre 1995 et juin 1996 pour une somme ',\n",
       " 'ce (33). en janvier 2010 il a suivi une ',\n",
       " '008 et pour l’année 2008-2009 a été insc',\n",
       " 'ses et le 27juillet 1995 une hépatite ch',\n",
       " ' 347 euros et qu’en 2002, compte tenu de',\n",
       " 'ses et le 27juillet 1995 une hépatite ch',\n",
       " '00687 republique francaise au nom du peu',\n",
       " '28. 000 € pour les enfants, - 15. 000 € ',\n",
       " 'la somme de 2000 € en application de l’ ',\n",
       " 'a somme de 1 000 € en application de l’ ',\n",
       " '00692 republique francaise au nom du peu',\n",
       " ' fixé à 5000 € le montant des indemnités',\n",
       " 'la somme de 2000 € en application de l’ ',\n",
       " 'x de 2, 5 % correspondant aux données éc',\n",
       " 'a somme de 1 000 € en application de l’ ',\n",
       " 's 25. 690 euros. en 2005, il a perçu la ',\n",
       " '01013 republique francaise au nom du peu',\n",
       " ': 07 / 01013 jonction avec rg 07 / 1704 ',\n",
       " 'rg 07 / 1704 décision attaquée : du 12 j',\n",
       " '05 afin de voir reconnaître la faute ine',\n",
       " '04 et qu’une décision a été prise sans q',\n",
       " 'écret de 1977 pris en application des di',\n",
       " 'e.g.) 20 rue des français libres bp 8041',\n",
       " '8,42 ç. michel xxx engageait ensuite une',\n",
       " ' 2001 et enfin de condamner la société e',\n",
       " '002 adressé au responsable sécurité du s',\n",
       " 'd’agrément 5 000 ç en application des di',\n",
       " 'e.g.) 20 rue des français libres bp 8041',\n",
       " 'ril 2000, jean xxx engageait une action ',\n",
       " '2003, et enfin de condamner la société e',\n",
       " 'd’agrément 5 000 ç en application des di',\n",
       " 'e.g.) 20 rue des français libres bp 8041',\n",
       " '8,42 ç. michel xxx engageait ensuite une',\n",
       " ' 2001 et enfin de condamner la société e',\n",
       " '002 adressé au responsable sécurité du s',\n",
       " 'd’agrément 5 000 ç en application des di',\n",
       " '00607 republique francaise au nom du peu',\n",
       " '200 st denis représentant : me plichon (',\n",
       " 'aux d’ipp de 5 %. son agent assermenté a',\n",
       " ' le tableau n° 25 consacré aux maladies ',\n",
       " '02002 republique francaise au nom du peu',\n",
       " 'g 06 / 02002 jonction avec 06 / 2193 jug',\n",
       " '200 st denis représentant : me moukanas ',\n",
       " ' le tableau n° 25 consacré aux maladies ',\n",
       " '02008 republique francaise au nom du peu',\n",
       " 'g 06 / 02008 jonction avec dossier n° rg',\n",
       " 'novembre 2004. la tentative de conciliat',\n",
       " '74 nous étions en contact avec l’amiante',\n",
       " ' le tableau n° 25 consacré aux maladies ',\n",
       " '02009 republique francaise au nom du peu',\n",
       " 'g 06 / 02009 jonction avec rg 06 / 02192',\n",
       " ' le tableau n° 25 consacré aux maladies ',\n",
       " '03300 republique francaise au nom du peu',\n",
       " 'me de 10 000 euros en application de l’a',\n",
       " 'embre 2006. par ordonnance de référé en ',\n",
       " 'e du tableau 10 bis n’a été recensée en ',\n",
       " 'mme de 5 000 euros en application de l’a',\n",
       " 'mme de 5 000 euros en application de l’a',\n",
       " 'me de 10 000 euros en application de l’a',\n",
       " 'omme de 1300 euros en application de l’a',\n",
       " '/2742 republique francaise au nom du peu',\n",
       " 'l. 452-3 dernier alinéa du code de la sé',\n",
       " 's euros (1. 600 €) en application des di',\n",
       " '06/90 republique francaise au nom du peu',\n",
       " 'yla somme de 800 € en application des di',\n",
       " ' 000 euros, et de condamner la sa eterni',\n",
       " 'ros (5. 000 €) le montant du préjudice m',\n",
       " '00824 republique francaise au nom du peu',\n",
       " '200 st denis représentant : scp plichon-',\n",
       " '00838 republique francaise au nom du peu',\n",
       " '62100 calais représentant : me michel le',\n",
       " '200 st denis représentant : me philippe ',\n",
       " '5 a fixé le taux d’incapacité de robert ',\n",
       " ' janvier 2006. la tentative de conciliat',\n",
       " '2007. monsieur xxx en a interjeté appel ',\n",
       " '01079 republique francaise au nom du peu',\n",
       " '200 st denis représentant : scp plichon-',\n",
       " 'juillet 2005 ; la tentative de conciliat',\n",
       " '01083 republique francaise au nom du peu',\n",
       " '200 st denis représentant : scp plichon-',\n",
       " '01084 republique francaise au nom du peu',\n",
       " '200 st denis représentant : scp plichon-',\n",
       " '01088 republique francaise au nom du peu',\n",
       " '200 st denis représentant : scp plichon-',\n",
       " '/0284 republique francaise au nom du peu',\n",
       " '0284 no / vg jonction avec rg 320 / 07 j',\n",
       " '43 dunkerque représentant : me philippe ',\n",
       " 'ent : 16. 000 € - condamner la société a',\n",
       " '/0430 republique francaise au nom du peu',\n",
       " '% 16. 863,00 € par an arriéré de rente d',\n",
       " '-52. 899,52 € solde néant * préjudice ex',\n",
       " 'de 1. 600 € chacun en application de l’a',\n",
       " 'une somme de 800 € en application de l’a',\n",
       " '07608 republique francaise au nom du peu',\n",
       " 'oût 1932 a exercé son activité professio',\n",
       " 'mme de 1.500 euros en application de l’a',\n",
       " 'somme de 500 euros en application de l’a',\n",
       " '07681 republique francaise au nom du peu',\n",
       " '947, qui exerçait son activité professio',\n",
       " '07961 republique francaise au nom du peu',\n",
       " 'mme de 1.500 euros en application de l’a',\n",
       " 'somme de 500 euros en application de l’a',\n",
       " '7/306 republique francaise au nom du peu',\n",
       " 'ent : 16 000 € de condamner en outre la ',\n",
       " '7/308 republique francaise au nom du peu',\n",
       " 'ent : 16 000 € de condamner en outre la ',\n",
       " '7/312 republique francaise au nom du peu',\n",
       " 'ent : 16 000 € de condamner en outre la ',\n",
       " '7/314 republique francaise au nom du peu',\n",
       " 'ent : 16 000 € de condamner en outre la ',\n",
       " '7/315 republique francaise au nom du peu',\n",
       " 'ment: 16 000 € de condamner en outre la ',\n",
       " '7/350 republique francaise au nom du peu',\n",
       " 'février 2005 ; la tentative de conciliat',\n",
       " 'ent : 16. 000 € - condamner la société a',\n",
       " '00242 republique francaise au nom du peu',\n",
       " 'er 1949, a exercé son activité professio',\n",
       " 'mme de 1.500 euros en application de l’a',\n",
       " 'une somme de 550 € en application de l’a',\n",
       " '00243 republique francaise au nom du peu',\n",
       " 'emnité de 3. 000 € en application de l’a',\n",
       " 'saisie ; 1)- sur l’incapacité fonctionne',\n",
       " 'somme de 800 euros en application de l’a',\n",
       " '00364 republique francaise au nom du peu',\n",
       " 'ur ce : 1) - sur l’incapacité fonctionne',\n",
       " '00391 republique francaise au nom du peu',\n",
       " '00596 republique francaise au nom du peu',\n",
       " 'et 1940, a exercé son activité professio',\n",
       " 'mme de 1.500 euros en application de l’a',\n",
       " '00623 republique francaise au nom du peu',\n",
       " ' janvier 1952 à rosendael (59240) demeur',\n",
       " 'e somme de 1.500 € en application de l’a',\n",
       " 'une somme de 600 € en application de l’a',\n",
       " '00625 republique francaise au nom du peu',\n",
       " 'e somme de 1.500 € en application de l’a',\n",
       " 'une somme de 500 € en application de l’a',\n",
       " '00627 republique francaise au nom du peu',\n",
       " 'ai 1933, a exercé son activité professio',\n",
       " 'e somme de 1.500 € en application de l’a',\n",
       " '00668 republique francaise au nom du peu',\n",
       " ' 800, 00 euros mais n’a pas fait d’offre',\n",
       " '4, 39 euros correspondant aux sommes pro',\n",
       " '72, 70 euros, *la condamnation du fiva a',\n",
       " '0 000 euros pour chantal xxx, ~ 8 000 eu',\n",
       " ', 39 euros ; que chantal xxx et mickaël ',\n",
       " '600 euros selon ordonnance de taxe du 31',\n",
       " '04619 republique francaise au nom du peu',\n",
       " 'jour à 8,50 euros pendant 56 jours ; att',\n",
       " ' août 1992 que le montant des frais d’ob',\n",
       " 's-...-19600 saint pantaleon de larche re',\n",
       " 'octobre 2011. l’ordonnance de clôture a ',\n",
       " '004, - cette lésion n’a pas été diagnost',\n",
       " 'crite dès le 1er juin après plusieurs jo',\n",
       " 'mai 2008, m. xxx a engagé devant la cour',\n",
       " 'ai 2009 qui avait condamné le fiva à pay',\n",
       " 'llet 1985 pour le montant qui résulte, p',\n",
       " ' de 19, 065 correspondant à l’espérance ',\n",
       " '9 de nationalité française, née le 09 ju',\n",
       " '9 de nationalité française, née le 29 ma',\n",
       " 'let 2007 à décembre 2009 = 30 mois, et n',\n",
       " 'ovembre 2014. l’ordonnance de clôture a ',\n",
       " '9, 89 euros correspondant au montant d’u',\n",
       " '11, et pour l’année 2012 au prorata du p',\n",
       " 'ptembre 2010 à juin 2011. il ajoute que ',\n",
       " 'ptembre 2010 à juin 2011. sur l’exclusio',\n",
       " '07078 republique francaise au nom du peu',\n",
       " '16 000 €, proposition acceptée le 18 mar',\n",
       " 'es 1980. en janvier 2009, cet état s’est',\n",
       " '97 € frais futurs : 2004 414. 453, 33 € ',\n",
       " '05499 republique francaise au nom du peu',\n",
       " '. 469, 99 € solde : néant préjudices ext',\n",
       " 're 2006, la déduction ayant pour seul ef',\n",
       " 'ibué (5 %), ni le montant retenu pour la',\n",
       " 'llet 1985 pour le montant qui résulte, p',\n",
       " '1939 lors de la reconnaissance du caract',\n",
       " 'llet 1985 pour le montant qui résulte, p',\n",
       " '01899 republique francaise au nom du peu',\n",
       " '. 251, 46 € solde : néant * préjudices e',\n",
       " '. 435, 27 € correspondant aux arriérés d',\n",
       " 'ril 2009 un taux d’incapacité de 70 %. p',\n",
       " ' jusqu’au 1 er mars 2006, après récupéra',\n",
       " 'ea (98800) melle yvanna a... (fille) née',\n",
       " '0 f cfp 15. a... yvanna (fille) 2. 500. ',\n",
       " 'e de 60. 000 f cfp en application des di',\n",
       " 'septembre 2012, a condamné m. c... à ver',\n",
       " '. 000 f cfp a... yvanna (fille majeure) ',\n",
       " '0. 000 f cfp à chacun au titre des frais',\n",
       " 'vis no1), et dans son arrêt cass. crim.,',\n",
       " '. 500. 000 f cfp il n’a lui-même obtenu ',\n",
       " 'ieux 20, rue des français libres bp 60 4',\n",
       " '98, dans sa rédaction avant modification',\n",
       " '98, dans sa rédaction alors en vigueur c',\n",
       " '1, que par dérogation aux dispositions d',\n",
       " '010 et s’est vu reconnaître un taux d’ip',\n",
       " '500 euros à m. xxx en application de l’a',\n",
       " 'rticle r 144-10, alinéa 2, du code de la',\n",
       " '25 ans, s’approvisionnait règulièrement ',\n",
       " '2012, le salarié a engagé une procédure ',\n",
       " 'lun rg no 12- 00358mn appelants madame m',\n",
       " 'ite à 10 000 ¿ le montant de la réparati',\n",
       " 'décembre 1998, elle n’aura finalement pa',\n",
       " 'article l 452-3, alinéa 2, du code de la',\n",
       " 'rticle r 144-10, alinéa 2, du code de la',\n",
       " 'cipal au 10ème du montant mensuel du pla',\n",
       " 'cle l 241-3 et la condamne au paiement d',\n",
       " 'octobre 2005 à juin 2007 inclus. ce déco',\n",
       " 'e iard à verser à1’oniam la somme de 100',\n",
       " 'rs 2015 en ce qu’il n’a fait que partiel',\n",
       " '878, 94 euros, * l’oniam, subrogé dans l',\n",
       " 'e l. 1142-1 correspondant à un taux d’at',\n",
       " 'rant que le 7ème alinéa de l’article l. ',\n",
       " 'cle l. 1142-14 est engagée, il dispose d',\n",
       " 'vril 2005 pour un montant total de 43 90',\n",
       " 'rtera 50 % de ces condamnations ; condam',\n",
       " '06656 republique francaise au nom du peu',\n",
       " '2, la même commission a fixé à 10% l’ipp',\n",
       " 'vembre 2007, d’un montant annuel de 1.12',\n",
       " 'de 18.700 € correspondant pour 16.900 € ',\n",
       " ' novembre 2002, - condamner le fiva à lu',\n",
       " '2,5 % du taux de l’incapacité subie par ',\n",
       " '2007, m. pierre xxx n’a aucun droit acqu',\n",
       " 'onnance du 18. juin 2001, le juge des ré',\n",
       " '10277 republique francaise au nom du peu',\n",
       " '94 -monsieur aurélien a... -mademoiselle',\n",
       " 've et chacun des 5 enfants du docteur pa',\n",
       " '7 euros pour aurélien a...,24. 053 euros',\n",
       " ' 267 euros à aurélien a...,62. 907 euros',\n",
       " '. 660 euros à allison a... et 112. 989 e',\n",
       " 'athalie b..., et 5 enfants nés respectiv',\n",
       " 'é, et qui laisse 5 enfants communs à cha',\n",
       " ' 25 ans, et chaque enfant absorbant 10 %',\n",
       " '. 907 euros, -allison a..., mineure repr',\n",
       " 's (mars 2001 à août 2003) consolidation ',\n",
       " '00492 republique francaise au nom du peu',\n",
       " 'lun rg no 20600116/mn appelante société ',\n",
       " ' janvier 2004 mentionnant des lésions pl',\n",
       " 'mme de 3 000 €, - condamner monsieur xxx',\n",
       " '1985, demande qu’il n’a formée à ce titr',\n",
       " '01406 republique francaise au nom du peu',\n",
       " '2003, monsieur d... n’a jamais évoqué un',\n",
       " '88, d’après le responsable de cette péri',\n",
       " '02756 republique francaise au nom du peu',\n",
       " 'ante ; 4 - donner son avis sur le taux d',\n",
       " 'tant ; 5 - donner son avis sur l’importa',\n",
       " '9/01 à la fin avril 2004; - que le dr f.',\n",
       " '/ 7 retenue en mars 2005 par l’expert ju',\n",
       " '02841 republique francaise au nom du peu',\n",
       " '2841 manufacture francaise des pneumatiq',\n",
       " 'somme de 700 euros en application de l’a',\n",
       " 'curité (shs4) mentionnait, pour le servi',\n",
       " 'ire de 1.000 euros en application des di',\n",
       " 'ion en 1997, occasionnant de nombreuses ',\n",
       " '06 à manufacture française des pneumatiq',\n",
       " 'rticle l. 431-2, alinéa 1 est dorénavant',\n",
       " 'let 2003. un représentant de l’employeur',\n",
       " 'le cadre du 2ème alinéa de l’article l 4',\n",
       " 'rticle l. 461-2, alinéa 4 du code de la ',\n",
       " 'article l 461-1, alinéa 3 du code de la ',\n",
       " 'tembre 1973, soit pendant plus de onze a',\n",
       " '3. cette prescription a été interrompue ',\n",
       " '7 : première réglementation française re',\n",
       " 'iments ; - 1982 : fondation en france du',\n",
       " 'enne no 91/382/cee en abaissant les seui',\n",
       " ' (” 3000 morts par an au royaume uni et ',\n",
       " 'tes en 1974, michelin a récupéré les gab',\n",
       " '02842 republique francaise au nom du peu',\n",
       " '2842 manufacture francaise des pneumatiq',\n",
       " 'somme de 700 euros en application de l’a',\n",
       " '06 à manufacture française des pneumatiq',\n",
       " 'rticle l. 461-2, alinéa 4 du code de la ',\n",
       " 'vembre 1991, soit pendant plus de 33 ann',\n",
       " 'article l 461-1, alinéa 3 du code de la ',\n",
       " '7 : première réglementation française re',\n",
       " 'iments ; - 1982 : fondation en france du',\n",
       " 'enne no 91/382/cee en abaissant les seui',\n",
       " ' (” 3000 morts par an au royaume uni et ',\n",
       " 'xx : 3.000 € la reconnaissance de la mal',\n",
       " '02843 republique francaise au nom du peu',\n",
       " '2843 manufacture francaise des pneumatiq',\n",
       " 'cal xxx ... 63310 randan représenté et p',\n",
       " '003. il avait cinq enfants : -pascal xxx',\n",
       " 'e 500 euros chacun en application de l’a',\n",
       " '06 à manufacture française des pneumatiq',\n",
       " 'rticle l. 461-2, alinéa 4 du code de la ',\n",
       " 'anvier 1992, soit pendant plus de 34 ann',\n",
       " 'e en 1983, suite à un accident du travai',\n",
       " 'article l 461-1, alinéa 3 du code de la ',\n",
       " '7 : première réglementation française re',\n",
       " 'timents ; -1982 : fondation en france du',\n",
       " ' no 91 / 382 / cee en abaissant les seui',\n",
       " ' (” 3000 morts par an au royaume uni et ',\n",
       " '02844 republique francaise au nom du peu',\n",
       " '2844 manufacture francaise des pneumatiq',\n",
       " ' avril 2008, tenue en application de l’a',\n",
       " 'me de 500 € chacun en application de l’a',\n",
       " 'e 35.000 € ; - la condamnation de la man',\n",
       " ' de 3.000 € chacun en application de l’a',\n",
       " '7 : première réglementation française re',\n",
       " 'iments ; - 1982 : fondation en france du',\n",
       " 'enne no 91/382/cee en abaissant les seui',\n",
       " ' (” 3000 morts par an au royaume uni et ',\n",
       " '00510 republique francaise au nom du peu',\n",
       " 'anvier 2008, tenue en application de l’a',\n",
       " 'e somme de 1.000 € en application de l’a',\n",
       " 'nées 70/80, cette connaissance n’existai',\n",
       " 'décembre 1983 ; - pendant ces périodes, ',\n",
       " 'mai1971 : électricien au service entreti',\n",
       " ' 1983 : : électricien au service entreti',\n",
       " 'rticle l. 461-2, alinéa 4 du code de la ',\n",
       " 'au 30 et que la reconnaissance des lésio',\n",
       " 'article l 461-1, alinéa 3 du code de la ',\n",
       " '7 : première réglementation française re',\n",
       " 'iments ; - 1982 : fondation en france du',\n",
       " 'enne no 91/382/cee en abaissant les seui',\n",
       " ' (” 3000 morts par an au royaume uni et ',\n",
       " '1133 ; cette réglementation s’applique a',\n",
       " '/70, en tout cas bien avant les années 9',\n",
       " '00512 republique francaise au nom du peu',\n",
       " 'anvier 2008, tenue en application de l’a',\n",
       " 'une somme de 700 € en application de l’a',\n",
       " 'nées 70/80, cette connaissance n’existai',\n",
       " 'rticle l. 461-2, alinéa 4 du code de la ',\n",
       " 'au 30 et que la reconnaissance des lésio',\n",
       " 'article l 461-1, alinéa 3 du code de la ',\n",
       " '7 : première réglementation française re',\n",
       " 'iments ; - 1982 : fondation en france du',\n",
       " 'enne no 91/382/cee en abaissant les seui',\n",
       " ' (” 3000 morts par an au royaume uni et ',\n",
       " '1133 ; cette réglementation s’applique a',\n",
       " '/70, en tout cas bien avant les années 9',\n",
       " '00513 republique francaise au nom du peu',\n",
       " 'anvier 2008, tenue en application de l’a',\n",
       " 'une somme de 700 € en application de l’a',\n",
       " 'es 70 / 80, cette connaissance n’existai',\n",
       " '700oc, les plaques en amiante se désagré',\n",
       " 'ier 1975. le représentant de la manufact',\n",
       " 'rticle l. 461-2, alinéa 4 du code de la ',\n",
       " 'au 30 et que la reconnaissance des lésio',\n",
       " 'article l 461-1, alinéa 3 du code de la ',\n",
       " '7 : première réglementation française re',\n",
       " 'timents ; -1982 : fondation en france du',\n",
       " ' no 91 / 382 / cee en abaissant les seui',\n",
       " ' (” 3000 morts par an au royaume uni et ',\n",
       " '1133 ; cette réglementation s’applique a',\n",
       " ' 70, en tout cas bien avant les années 9',\n",
       " '00514 republique francaise au nom du peu',\n",
       " 'ois xxx ... 63410 manzat comparant assis',\n",
       " 'anvier 2008, tenue en application de l’a',\n",
       " 'une somme de 700 € en application de l’a',\n",
       " 'nées 70/80, cette connaissance n’existai',\n",
       " 'rticle l. 461-2, alinéa 4 du code de la ',\n",
       " 'au 30 et que la reconnaissance des lésio',\n",
       " 'article l 461-1, alinéa 3 du code de la ',\n",
       " '7 : première réglementation française re',\n",
       " 'iments ; - 1982 : fondation en france du',\n",
       " 'enne no 91/382/cee en abaissant les seui',\n",
       " ' (” 3000 morts par an au royaume uni et ',\n",
       " '1133 ; cette réglementation s’applique a',\n",
       " '/70, en tout cas bien avant les années 9',\n",
       " '00516 republique francaise au nom du peu',\n",
       " 'anvier 2008, tenue en application de l’a',\n",
       " 'une somme de 700 € en application de l’a',\n",
       " 'es 70 / 80, cette connaissance n’existai',\n",
       " 'rticle l. 461-2, alinéa 4 du code de la ',\n",
       " 'au 30 et que la reconnaissance des lésio',\n",
       " 'article l 461-1, alinéa 3 du code de la ',\n",
       " '7 : première réglementation française re',\n",
       " 'timents ; -1982 : fondation en france du',\n",
       " ' no 91 / 382 / cee en abaissant les seui',\n",
       " ' (” 3000 morts par an au royaume uni et ',\n",
       " '1133 ; cette réglementation s’applique a',\n",
       " ' 70, en tout cas bien avant les années 9',\n",
       " '00517 republique francaise au nom du peu',\n",
       " 'anvier 2008, tenue en application de l’a',\n",
       " 'une somme de 700 € en application de l’a',\n",
       " 'nées 70/80, cette connaissance n’existai',\n",
       " 'ne somme de 1000 € en application des di',\n",
       " 'rtir de 1945, des connaissances scientif',\n",
       " 'rticle l. 461-2, alinéa 4 du code de la ',\n",
       " 'au 30 et que la reconnaissance des lésio',\n",
       " 'article l 461-1, alinéa 3 du code de la ',\n",
       " '7 : première réglementation française re',\n",
       " 'iments ; - 1982 : fondation en france du',\n",
       " 'enne no 91/382/cee en abaissant les seui',\n",
       " ' (” 3000 morts par an au royaume uni et ',\n",
       " '1133 ; cette réglementation s’applique a',\n",
       " '/70, en tout cas bien avant les années 9',\n",
       " 'article l 461-1, alinéa 3 du code de la ',\n",
       " '01196 republique francaise au nom du peu',\n",
       " 'évrier 2008, tenue en application de l’a',\n",
       " '0 b avec un taux d’incapacité permanente',\n",
       " 'ale de m. xxx, 6) condamné la société et',\n",
       " '04204 republique francaise au nom du peu',\n",
       " '77, laquelle réglementation en concernai',\n",
       " '1978 a repris l’inventaire des risques e',\n",
       " 'de toulouse en 2007-2008 11.866,24 € tot',\n",
       " '% d’août 2005à mars 2008. il convient de']"
      ]
     },
     "execution_count": 18,
     "metadata": {},
     "output_type": "execute_result"
    }
   ],
   "source": [
    "fails"
   ]
  },
  {
   "cell_type": "markdown",
   "metadata": {},
   "source": [
    "# 2. Creating Training Set"
   ]
  },
  {
   "cell_type": "code",
   "execution_count": 12,
   "metadata": {},
   "outputs": [
    {
     "name": "stderr",
     "output_type": "stream",
     "text": [
      "[nltk_data] Downloading package wordnet to /home/fei/nltk_data...\n",
      "[nltk_data]   Package wordnet is already up-to-date!\n",
      "[nltk_data] Downloading package stopwords to /home/fei/nltk_data...\n",
      "[nltk_data]   Package stopwords is already up-to-date!\n"
     ]
    },
    {
     "data": {
      "text/plain": [
       "True"
      ]
     },
     "execution_count": 12,
     "metadata": {},
     "output_type": "execute_result"
    }
   ],
   "source": [
    "import nltk\n",
    "from tqdm import tqdm\n",
    "import numpy as np\n",
    "from nltk.corpus import stopwords\n",
    "from nltk.stem import WordNetLemmatizer, SnowballStemmer\n",
    "nltk.download('wordnet')\n",
    "nltk.download('stopwords')"
   ]
  },
  {
   "cell_type": "code",
   "execution_count": 13,
   "metadata": {},
   "outputs": [],
   "source": [
    "stemmer = SnowballStemmer('french')\n",
    "lemmatizer = WordNetLemmatizer()\n",
    "stop_words = list(stopwords.words('french'))"
   ]
  },
  {
   "cell_type": "code",
   "execution_count": 14,
   "metadata": {},
   "outputs": [],
   "source": [
    "months_str_to_int = dict(janvier='01', fevrier='02', mars='03', avril='04', mai='05', juin='06',\n",
    "                         juillet='07', aout='08', septembre='09', octobre='10', novembre='11',\n",
    "                         decembre='12')\n",
    "\n",
    "def format_date(day:str, month:str):\n",
    "    if len(day) == 1:\n",
    "        day = '0' + day\n",
    "    if not month.isnumeric():\n",
    "        month = months_str_to_int[month]\n",
    "    elif len(month) == 1:\n",
    "        month = '0' + month\n",
    "    return day, month"
   ]
  },
  {
   "cell_type": "code",
   "execution_count": 15,
   "metadata": {},
   "outputs": [
    {
     "name": "stderr",
     "output_type": "stream",
     "text": [
      "100%|██████████| 770/770 [00:21<00:00, 35.82it/s]\n"
     ]
    }
   ],
   "source": [
    "x_train = []\n",
    "y_train = []\n",
    "for i in tqdm(range(len(tr_texts))):\n",
    "    if y_tr_df.iloc[i]['date_accident'] != 'n.c.':\n",
    "        text = tr_texts[i]\n",
    "        index = []\n",
    "        dates = []\n",
    "        for k, pattern in enumerate(patterns):\n",
    "            index.extend(re.finditer(pattern, text))\n",
    "            dates.extend(re.findall(patterns_bis[k], text))\n",
    "\n",
    "        window = 50\n",
    "        for k, ind in enumerate(index):\n",
    "            if dates[k]:\n",
    "                day, month, year = dates[k][0], dates[k][1], dates[k][2]\n",
    "                month = month.lower().replace('é', 'e').replace('û', 'u')\n",
    "                if month in months_str_to_int:\n",
    "                    day, month = format_date(day, month)\n",
    "                    date = f\"{year}-{month}-{day}\"\n",
    "                    chunk = text[ind.start() - window: ind.end() + window]\n",
    "                    chunk = clean2(chunk, lemmatizer, stemmer, stop_words = stop_words)\n",
    "                    x_train.append(chunk)\n",
    "\n",
    "                    if date == y_tr_df.iloc[i]['date_accident']: y_train.append(1)\n",
    "                    else: y_train.append(0)"
   ]
  },
  {
   "cell_type": "markdown",
   "metadata": {},
   "source": [
    "# 3. Training Model"
   ]
  },
  {
   "cell_type": "code",
   "execution_count": 16,
   "metadata": {},
   "outputs": [],
   "source": [
    "from sklearn.feature_extraction.text import TfidfVectorizer\n",
    "from sklearn.model_selection import train_test_split\n",
    "from sklearn.metrics import confusion_matrix\n",
    "from sklearn.model_selection import KFold\n",
    "from sklearn.linear_model import SGDClassifier\n",
    "from xgboost import XGBClassifier\n",
    "from sklearn.model_selection import cross_validate, GridSearchCV, RandomizedSearchCV"
   ]
  },
  {
   "cell_type": "code",
   "execution_count": 17,
   "metadata": {},
   "outputs": [],
   "source": [
    "TF_IDF = TfidfVectorizer(ngram_range=(1, 2), max_features=100, norm='l2', sublinear_tf=True)\n",
    "x_train = TF_IDF.fit_transform(x_train).toarray()"
   ]
  },
  {
   "cell_type": "code",
   "execution_count": 18,
   "metadata": {},
   "outputs": [],
   "source": [
    "def perform_grid_search(cls, param_grid):\n",
    "    \"\"\" perform a grid search on a classifier using 3-fold cross validation and the passed prameters \"\"\"\n",
    "    grid_search = GridSearchCV(estimator=cls, \n",
    "                               param_grid=param_grid,\n",
    "                               scoring='accuracy',\n",
    "                               cv=3,\n",
    "                               verbose=1)\n",
    "    grid_search.fit(x_train, y_train)\n",
    "    print(f\"The best hyperparameters from Grid Seach are: {grid_search.best_params_}\")\n",
    "    return grid_search.best_estimator_"
   ]
  },
  {
   "cell_type": "code",
   "execution_count": 19,
   "metadata": {},
   "outputs": [],
   "source": [
    "num_neg = len([i for i in y_train if i == 0])\n",
    "num_pos = len([i for i in y_train if i == 1])"
   ]
  },
  {
   "cell_type": "code",
   "execution_count": 20,
   "metadata": {},
   "outputs": [
    {
     "data": {
      "text/plain": [
       "2130"
      ]
     },
     "execution_count": 20,
     "metadata": {},
     "output_type": "execute_result"
    }
   ],
   "source": [
    "num_pos"
   ]
  },
  {
   "cell_type": "code",
   "execution_count": 22,
   "metadata": {},
   "outputs": [
    {
     "name": "stderr",
     "output_type": "stream",
     "text": [
      "100%|██████████| 770/770 [00:00<00:00, 12958.84it/s]\n"
     ]
    },
    {
     "data": {
      "text/plain": [
       "743"
      ]
     },
     "execution_count": 22,
     "metadata": {},
     "output_type": "execute_result"
    }
   ],
   "source": [
    "c = 0\n",
    "for i in tqdm(range(len(tr_texts))):\n",
    "    if y_tr_df.iloc[i]['date_accident'] != 'n.c.':\n",
    "        c += 1\n",
    "c "
   ]
  },
  {
   "cell_type": "code",
   "execution_count": 23,
   "metadata": {},
   "outputs": [
    {
     "name": "stdout",
     "output_type": "stream",
     "text": [
      "Fitting 3 folds for each of 36 candidates, totalling 108 fits\n"
     ]
    },
    {
     "name": "stderr",
     "output_type": "stream",
     "text": [
      "[Parallel(n_jobs=1)]: Using backend SequentialBackend with 1 concurrent workers.\n",
      "[Parallel(n_jobs=1)]: Done 108 out of 108 | elapsed:  1.3min finished\n"
     ]
    },
    {
     "name": "stdout",
     "output_type": "stream",
     "text": [
      "The best hyperparameters from Grid Seach are: {'colsample_bytree': 0.7, 'learning_rate': 0.1, 'max_depth': 5, 'subsample': 0.7}\n"
     ]
    }
   ],
   "source": [
    "random_state = 42\n",
    "\n",
    "param_grid = {\n",
    "    'max_depth': [3, 5],\n",
    "    'learning_rate': [.01, .1],\n",
    "    'subsample': [.7, .9, 1],\n",
    "    'colsample_bytree': [.7, .9, 1],\n",
    "}\n",
    "classifier = XGBClassifier(random_state=random_state, scale_pos_weeight = num_neg/num_pos)\n",
    "classifier = perform_grid_search(classifier, param_grid)"
   ]
  },
  {
   "cell_type": "code",
   "execution_count": 26,
   "metadata": {},
   "outputs": [],
   "source": [
    "def apply_cv(cls, cv=3):\n",
    "    cv_results = cross_validate(cls, x_train, y_train, scoring='accuracy', return_train_score=True, cv=cv)\n",
    "    print(f\"CV Accuracy: {round(cv_results['train_score'].mean() * 100, 2)}%\")"
   ]
  },
  {
   "cell_type": "code",
   "execution_count": 27,
   "metadata": {},
   "outputs": [
    {
     "name": "stdout",
     "output_type": "stream",
     "text": [
      "CV Accuracy: 94.38%\n"
     ]
    }
   ],
   "source": [
    "apply_cv(classifier, 10)"
   ]
  },
  {
   "cell_type": "code",
   "execution_count": 28,
   "metadata": {},
   "outputs": [
    {
     "data": {
      "text/plain": [
       "XGBClassifier(base_score=0.5, booster=None, colsample_bylevel=1,\n",
       "              colsample_bynode=1, colsample_bytree=0.7, gamma=0, gpu_id=-1,\n",
       "              importance_type='gain', interaction_constraints=None,\n",
       "              learning_rate=0.1, max_delta_step=0, max_depth=5,\n",
       "              min_child_weight=1, missing=nan, monotone_constraints=None,\n",
       "              n_estimators=100, n_jobs=0, num_parallel_tree=1,\n",
       "              objective='binary:logistic', random_state=42, reg_alpha=0,\n",
       "              reg_lambda=1, scale_pos_weeight=10.425352112676057,\n",
       "              scale_pos_weight=1, subsample=0.7, tree_method=None,\n",
       "              validate_parameters=False, verbosity=None)"
      ]
     },
     "execution_count": 28,
     "metadata": {},
     "output_type": "execute_result"
    }
   ],
   "source": [
    "classifier.fit(x_train, y_train)"
   ]
  },
  {
   "cell_type": "code",
   "execution_count": null,
   "metadata": {},
   "outputs": [],
   "source": []
  },
  {
   "cell_type": "markdown",
   "metadata": {},
   "source": [
    "# 4. Predict accident date in a text"
   ]
  },
  {
   "cell_type": "code",
   "execution_count": 30,
   "metadata": {},
   "outputs": [
    {
     "name": "stderr",
     "output_type": "stream",
     "text": [
      "100%|██████████| 770/770 [00:17<00:00, 43.00it/s]\n"
     ]
    }
   ],
   "source": [
    "candidates = []\n",
    "sentence_dates = []\n",
    "true_dates = []\n",
    "for i in tqdm(range(len(tr_texts))):\n",
    "    if y_tr_df.iloc[i]['date_accident'] != 'n.c.':\n",
    "        text = tr_texts[i]\n",
    "        index = []\n",
    "        dates = []\n",
    "        for k, pattern in enumerate(patterns):\n",
    "            index.extend(re.finditer(pattern, text))\n",
    "            dates.extend(re.findall(patterns_bis[k], text))\n",
    "\n",
    "        window = 50\n",
    "        data = []\n",
    "        s_d = []\n",
    "        for k, ind in enumerate(index):\n",
    "            if dates[k]:\n",
    "                day, month, year = dates[k][0], dates[k][1], dates[k][2]\n",
    "                month = month.lower().replace('é', 'e').replace('û', 'u')\n",
    "                if month in months_str_to_int:\n",
    "                    day, month = format_date(day, month)\n",
    "                    date = f\"{year}-{month}-{day}\"\n",
    "                    chunk = text[ind.start() - window: ind.end() + window]\n",
    "                    chunk = clean2(chunk, lemmatizer, stemmer, stop_words = stop_words)\n",
    "                    data.append(chunk)\n",
    "                    s_d.append(date)\n",
    "\n",
    "        candidates.append(data)\n",
    "        sentence_dates.append(s_d)\n",
    "        true_dates.append(y_tr_df.iloc[i]['date_accident'])"
   ]
  },
  {
   "cell_type": "code",
   "execution_count": 31,
   "metadata": {},
   "outputs": [],
   "source": [
    "for i in range(len(candidates)):\n",
    "    candidate = TF_IDF.transform(candidates[i]).toarray()\n",
    "    candidates[i] = candidate"
   ]
  },
  {
   "cell_type": "code",
   "execution_count": 32,
   "metadata": {},
   "outputs": [],
   "source": [
    "preds = []\n",
    "for i, candidate in enumerate(candidates):\n",
    "    pred = np.argmax(classifier.predict_proba(candidate)[:,1])\n",
    "    pred_date = sentence_dates[i][pred]\n",
    "    preds.append(pred_date)"
   ]
  },
  {
   "cell_type": "code",
   "execution_count": 33,
   "metadata": {},
   "outputs": [
    {
     "data": {
      "text/plain": [
       "0.7065948855989233"
      ]
     },
     "execution_count": 33,
     "metadata": {},
     "output_type": "execute_result"
    }
   ],
   "source": [
    "accuracy = 0\n",
    "for i in range(len(preds)):\n",
    "    if preds[i] == true_dates[i]:\n",
    "        accuracy += 1\n",
    "accuracy/len(preds)"
   ]
  },
  {
   "cell_type": "markdown",
   "metadata": {},
   "source": [
    "#  3. Predict test data "
   ]
  },
  {
   "cell_type": "code",
   "execution_count": 34,
   "metadata": {},
   "outputs": [],
   "source": [
    "#x_test data\n",
    "x_te_df = pd.read_csv('test_folder/x_test_ids.csv', index_col=0)\n",
    "te_dir = \"test_folder/txt_files/\"\n",
    "te_files = x_te_df['filename'].values\n",
    "te_texts = []\n",
    "for te_file in te_files:\n",
    "    f = open(os.path.join(te_dir, te_file), \"r\")\n",
    "    ff = f.read()\n",
    "    ff = clean1(ff)\n",
    "    te_texts.append(ff)"
   ]
  },
  {
   "cell_type": "code",
   "execution_count": 45,
   "metadata": {},
   "outputs": [
    {
     "name": "stderr",
     "output_type": "stream",
     "text": [
      "100%|██████████| 257/257 [00:01<00:00, 230.86it/s]\n"
     ]
    }
   ],
   "source": [
    "candidates = []\n",
    "sentence_dates = []\n",
    "for i in tqdm(range(len(te_texts))):\n",
    "    text = te_texts[i]\n",
    "    index = []\n",
    "    dates = []\n",
    "    for k, pattern in enumerate(patterns):\n",
    "        index.extend(re.finditer(pattern, text))\n",
    "        dates.extend(re.findall(patterns_bis[k], text))\n",
    "\n",
    "    window = 50\n",
    "    data = []\n",
    "    s_d = []\n",
    "    for k, ind in enumerate(index):\n",
    "        if dates[k]:\n",
    "            day, month, year = dates[k][0], dates[k][1], dates[k][2]\n",
    "            month = month.lower().replace('é', 'e').replace('û', 'u')\n",
    "            if month in months_str_to_int:\n",
    "                day, month = format_date(day, month)\n",
    "                date = f\"{year}-{month}-{day}\"\n",
    "                chunk = text[ind.start() - window: ind.end() + window]\n",
    "                #chunk = clean2(chunk, lemmatizer, stemmer, stop_words = stop_words)\n",
    "                data.append(chunk)\n",
    "                s_d.append(date)\n",
    "\n",
    "    candidates.append(data)\n",
    "    sentence_dates.append(s_d)"
   ]
  },
  {
   "cell_type": "code",
   "execution_count": 42,
   "metadata": {},
   "outputs": [],
   "source": [
    "for i in range(len(candidates)):\n",
    "    candidate = TF_IDF.transform(candidates[i]).toarray()\n",
    "    candidates[i] = candidate"
   ]
  },
  {
   "cell_type": "code",
   "execution_count": null,
   "metadata": {},
   "outputs": [],
   "source": [
    "#ajouter n.c."
   ]
  },
  {
   "cell_type": "code",
   "execution_count": 43,
   "metadata": {},
   "outputs": [],
   "source": [
    "preds = []\n",
    "for i, candidate in enumerate(candidates):\n",
    "    pred = np.argmax(classifier.predict_proba(candidate)[:,1])\n",
    "    pred_date = sentence_dates[i][pred]\n",
    "    preds.append(pred_date)"
   ]
  },
  {
   "cell_type": "code",
   "execution_count": 50,
   "metadata": {},
   "outputs": [],
   "source": [
    "np.save('results/accident.npy', preds)"
   ]
  },
  {
   "cell_type": "code",
   "execution_count": 48,
   "metadata": {},
   "outputs": [
    {
     "data": {
      "text/plain": [
       "'1989-05-11'"
      ]
     },
     "execution_count": 48,
     "metadata": {},
     "output_type": "execute_result"
    }
   ],
   "source": [
    "preds[2]"
   ]
  },
  {
   "cell_type": "code",
   "execution_count": 49,
   "metadata": {},
   "outputs": [
    {
     "data": {
      "text/plain": [
       "['/11/2019 cour d’appel d’agen audience publique du 10 février 2004 n° de rg: 02/1013 republique francaise au nom du ',\n",
       " 'republique francaise au nom du peuple francais du 10 février 2004 ------------------------- c.s/s.b s.a. axa assura',\n",
       " ' le tribunal de grande instance d’agen en date du 14 juin 2002 d’une part, et : madame francine xxx représentée ',\n",
       " 'lic, débattue et plaidée en audience publique, le 09 décembre 2003, devant nicole roger, présidente de chambre, cath',\n",
       " 'né par ordonnance du premier président en date du 05 mars 2003, assistés de dominique saley, greffière, et qu’il',\n",
       " 'cédure, des moyens et prétentions des parties. le 11 mai 1989, francine xxx a été victime d’un accident de la c',\n",
       " '430. elle a subi par ailleurs une intervention le 10 juillet 1989 ainsi qu’une ostéosynthèse de l’humérus avec gref',\n",
       " 'produits contaminés par ce virus. par courrier du 8 août 1995 le cits d’agen, par l’intermédiaire du docteur a.',\n",
       " 'étaient hcv positifs. par ordonnance de référé du 20 mars 1997, elle a obtenu la désignation d’un expert en la p',\n",
       " 'eur sophie b..., laquelle a déposé son rapport le 18 août 1997. incriminant les transfusions sanguines qui avaie',\n",
       " 'e son hospitalisation, mme xxx a fait assigner le 19 février 1999 le centre interdépartemental de transfusion sangu',\n",
       " 'x fins d’obtenir réparation de ses préjudices. le 4 mars 1999, le cits a appelé en garantie son assureur la com',\n",
       " 'ntes. par jugement réputé contradictoire rendu le 14 juin 2002, le tribunal de grande instance d’agen a déclaré ',\n",
       " 'oires exposés avec intérêts de droit à compter du 7 décembre 2001, 194,02 euro en application de l’article l.376-1 ',\n",
       " 'e opposable à la mutuelle des ptt défaillante. le 19 juillet 2002, la compagnie d’assurances axa assurances iard a ',\n",
       " 'fait valoir: - que par arrêté interministériel du 27 juin 1980, il a été imposé aux établissements de transfusio',\n",
       " ' - que le cits d’agen ayant résilié ce contrat le 31 décembre 1989, la garantie responsabilité civile subséquente de',\n",
       " 'cinq ans est arrivée en conséquence à échéance le 31 décembre 1994, - que la déclaration de sinistre de mme xxx étan',\n",
       " 'ration de sinistre de mme xxx étant intervenue le 19 octobre 1995, soit près de 10 mois après l’expiration de cette',\n",
       " 'claration d’illégalité de l’arrêté ministériel du 27 juin 1980 prononcée par le conseil d’etat le 29 décembre 20',\n",
       " 'u 27 juin 1980 prononcée par le conseil d’etat le 29 décembre 2000, soit postérieurement à l’expiration de cette gar',\n",
       " 'ainsi que des termes de la directive 93/13/cee du 5 avril 1993, un juge national peut déclarer non écrite une cl',\n",
       " 'dère à ce titre que si l’article 102 de la loi du 4 mars 2002 permet d’opérer le renversement de la charge de l',\n",
       " ' l’état de l’arrêt rendu par le conseil d’etat le 29 décembre 2000. mme xxx sollicite pour sa part la confirmation d',\n",
       " 'n application des dispositions de l’ordonnance du 24 janvier 1996. la mutuelle des ptt, quoique régulièrement assig',\n",
       " 'ué avoué. l’ordonnance de clôture a été rendue le 8 décembre 2003. sur ce: vu les moyens et prétentions des parties',\n",
       " 'es des dispositions de l’article 102 de la loi du 4 mars 2002, et dans l’hypothèse de contestations relatives à',\n",
       " 'nneurs deux se sont révélés hcv positifs ; que le 8 août 1995 le docteur a..., médecin du centre de transfusion',\n",
       " 'té publique, dans sa rédaction issue de la loi du 21 juillet 1952 modifiée par la loi du 2 août 1961, les organisme',\n",
       " ' la loi du 21 juillet 1952 modifiée par la loi du 2 août 1961, les organismes dont relèvent les établissements ',\n",
       " 'en juin 1981 ; que cette police a été résiliée le 31 décembre 1989 ; qu’elle contenait une clause au terme de laquel',\n",
       " 'icle 4 de l’annexe à l’arrêté interministériel du 27 juin 1980, pris en application de l’article l. 667 du code ',\n",
       " 'mme entaché d’illégalité par la conseil d’etat le 29 décembre 2000 ; que nonobstant les conséquences de cette décisi',\n",
       " 'e 582,07 euro avec intérêts de droit à compter du 7 décembre 2001 au titre du montant des débours provisoires expos',\n",
       " '’au mois de janvier 1990 et rendus obligatoire au 1er mars 1990 ; qu’il est couramment admis que la contamination']"
      ]
     },
     "execution_count": 49,
     "metadata": {},
     "output_type": "execute_result"
    }
   ],
   "source": [
    "candidates[2]"
   ]
  },
  {
   "cell_type": "code",
   "execution_count": null,
   "metadata": {},
   "outputs": [],
   "source": []
  }
 ],
 "metadata": {
  "kernelspec": {
   "display_name": "Python 3",
   "language": "python",
   "name": "python3"
  },
  "language_info": {
   "codemirror_mode": {
    "name": "ipython",
    "version": 3
   },
   "file_extension": ".py",
   "mimetype": "text/x-python",
   "name": "python",
   "nbconvert_exporter": "python",
   "pygments_lexer": "ipython3",
   "version": "3.7.3"
  }
 },
 "nbformat": 4,
 "nbformat_minor": 2
}
