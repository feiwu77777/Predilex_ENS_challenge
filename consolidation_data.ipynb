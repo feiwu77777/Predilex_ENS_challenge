{
 "cells": [
  {
   "cell_type": "markdown",
   "metadata": {},
   "source": [
    "# import"
   ]
  },
  {
   "cell_type": "code",
   "execution_count": 1,
   "metadata": {},
   "outputs": [],
   "source": [
    "import os\n",
    "import re\n",
    "import pandas as pd\n",
    "from utils import *"
   ]
  },
  {
   "cell_type": "markdown",
   "metadata": {},
   "source": [
    "# 0. Load data"
   ]
  },
  {
   "cell_type": "code",
   "execution_count": 2,
   "metadata": {},
   "outputs": [],
   "source": [
    "# author code\n",
    "x_tr_df = pd.read_csv('train_folder/x_train_ids.csv', index_col=0)\n",
    "tr_dir = \"train_folder/txt_files/\"\n",
    "tr_files = x_tr_df['filename'].values\n",
    "\n",
    "tr_texts = []\n",
    "for tr_file in tr_files:\n",
    "    f = open(os.path.join(tr_dir, tr_file), \"r\")\n",
    "    ff = f.read()\n",
    "    ff = clean1(ff)\n",
    "    tr_texts.append(ff)\n",
    "# tr_texts has all the texts in it"
   ]
  },
  {
   "cell_type": "code",
   "execution_count": 3,
   "metadata": {},
   "outputs": [],
   "source": [
    "#y_train data\n",
    "y_tr_df = pd.read_csv('train_folder/Y_train_predilex.csv', index_col=0)"
   ]
  },
  {
   "cell_type": "code",
   "execution_count": 18,
   "metadata": {
    "collapsed": true
   },
   "outputs": [
    {
     "data": {
      "text/plain": [
       "ID\n",
       "0      False\n",
       "1      False\n",
       "2      False\n",
       "3      False\n",
       "4      False\n",
       "       ...  \n",
       "765    False\n",
       "766    False\n",
       "767    False\n",
       "768    False\n",
       "769    False\n",
       "Name: date_consolidation, Length: 770, dtype: bool"
      ]
     },
     "execution_count": 18,
     "metadata": {},
     "output_type": "execute_result"
    }
   ],
   "source": [
    "y_tr_df.date_consolidation == 'n.a.'"
   ]
  },
  {
   "cell_type": "code",
   "execution_count": null,
   "metadata": {},
   "outputs": [],
   "source": []
  },
  {
   "cell_type": "code",
   "execution_count": null,
   "metadata": {},
   "outputs": [],
   "source": []
  },
  {
   "cell_type": "markdown",
   "metadata": {},
   "source": [
    "# 1. Find all possible patterns for dates"
   ]
  },
  {
   "cell_type": "code",
   "execution_count": 13,
   "metadata": {},
   "outputs": [],
   "source": [
    "# all index of the year of the accident \n",
    "all_dates = []\n",
    "for i in range(len(tr_texts)):\n",
    "    if y_tr_df['date_accident'][i] != 'n.c.':\n",
    "        ff = [m.start() for m in re.finditer(y_tr_df['date_accident'][i][:4], tr_texts[i])]\n",
    "    else:\n",
    "        ff = []\n",
    "    all_dates.append(ff)"
   ]
  },
  {
   "cell_type": "code",
   "execution_count": 6,
   "metadata": {},
   "outputs": [],
   "source": [
    "# check if there is the day digit near the year digit\n",
    "sentences = []\n",
    "for ind in range(len(tr_texts)):\n",
    "    sentence = []\n",
    "    window = 15\n",
    "    for date in all_dates[ind]:\n",
    "        left = tr_texts[ind][date - window : date]\n",
    "        right = tr_texts[ind][date + 4 : date + 4 + window]\n",
    "        left_num = re.findall(r'\\d', left)\n",
    "        right_num = re.findall(r'\\d', right)\n",
    "        if len(left_num) == 0 & len(right_num) == 0:\n",
    "            pass\n",
    "        else:\n",
    "            text = tr_texts[ind][date - window : date + 4 + window]\n",
    "            sentence.append(text)\n",
    "    sentences.append(sentence)"
   ]
  },
  {
   "cell_type": "code",
   "execution_count": 5,
   "metadata": {},
   "outputs": [],
   "source": [
    "# find all pattern of dates\n",
    "pattern1 = r\"\\d{1,2} \\w{3,9} \\d{2,4}\"\n",
    "pattern2 = r\"1° \\w{3,9} \\d{2,4}\"\n",
    "pattern3 = r\"1er \\w{3,9} \\d{2,4}\"\n",
    "pattern4 = r\"\\d{1,2}\\.\\d{1,2}\\.\\d{2,4}\"\n",
    "pattern5 = r\"\\d{1,2}/\\d{1,2}/\\d{2,4}\"\n",
    "pattern6 = r\"\\d{1,2} / \\d{1,2} / \\d{2,4}\"\n",
    "pattern7 = r\"\\d{1,2}/ \\d{1,2}/ \\d{2,4}\"\n",
    "pattern8 = r\"\\d{1,2}\\. \\d{1,2}\\. \\d{2,4}\"\n",
    "\n",
    "\n",
    "pattern1_bis = r\"(\\d{1,2}) (\\w{3,9}) (\\d{2,4})\"\n",
    "pattern2_bis = r\"(1°) (\\w{3,9}) (\\d{2,4})\"\n",
    "pattern3_bis = r\"(1er) (\\w{3,9}) (\\d{2,4})\"\n",
    "pattern4_bis = r\"(\\d{1,2})\\.(\\d{1,2})\\.(\\d{2,4})\"\n",
    "pattern5_bis = r\"(\\d{1,2})/(\\d{1,2})/(\\d{2,4})\"\n",
    "pattern6_bis = r\"(\\d{1,2}) / (\\d{1,2}) / (\\d{2,4})\"\n",
    "pattern7_bis = r\"(\\d{1,2})/ (\\d{1,2})/ (\\d{2,4})\"\n",
    "pattern8_bis = r\"(\\d{1,2})\\. (\\d{1,2})\\. (\\d{2,4})\"\n",
    "\n",
    "patterns = [pattern1, pattern2, pattern3, pattern4, pattern5, pattern6, pattern7, pattern8] \n",
    "patterns_bis = [pattern1_bis, pattern2_bis, pattern3_bis, pattern4_bis, pattern5_bis, pattern6_bis, pattern7_bis, pattern8_bis] "
   ]
  },
  {
   "cell_type": "code",
   "execution_count": 10,
   "metadata": {},
   "outputs": [],
   "source": [
    "# check the number of sentences that doesnt get detected using preious patterns\n",
    "dates = []\n",
    "fails = []\n",
    "for i in range(len(sentences)):\n",
    "    date = []\n",
    "    index = []\n",
    "    for sentence in sentences[i]:\n",
    "        l = []\n",
    "        for pattern in patterns:\n",
    "            l.extend(re.findall(pattern, sentence))\n",
    "        if len(l) == 0:\n",
    "            fails.append(sentence)\n",
    "        date.extend(l)\n",
    "    dates.append(date)"
   ]
  },
  {
   "cell_type": "code",
   "execution_count": 11,
   "metadata": {
    "scrolled": true
   },
   "outputs": [
    {
     "data": {
      "text/plain": [
       "100"
      ]
     },
     "execution_count": 11,
     "metadata": {},
     "output_type": "execute_result"
    }
   ],
   "source": [
    "len(fails)"
   ]
  },
  {
   "cell_type": "code",
   "execution_count": 103,
   "metadata": {
    "collapsed": true
   },
   "outputs": [
    {
     "data": {
      "text/plain": [
       "['97 à septembre 1998), qu’ainsi son',\n",
       " 'e 35 000 € (en 2000 revenus mensue',\n",
       " 'ins du 1o août 2002 au 13 janvier ',\n",
       " '4. 773,00 € en 2002 : 30. 321,00 €',\n",
       " ' entre 2002 et 2003 s’élevant à 17',\n",
       " 'enu le 1o mars 2002 n’est pas l’ob',\n",
       " '( 9029,93 € en 2002 + 22.934,66 € ',\n",
       " 'n 1996 puis en 1997 mme myriam yyy',\n",
       " '996 et janvier 1997 n’aurait pas r',\n",
       " '996 et janvier 1997 de sorte qu’il',\n",
       " ' de 1996 et de 1997) ni la qualité',\n",
       " 'tions de 1996, 1997, 1998, 1999, 2',\n",
       " ' de 1996 et de 1997 - date de cons',\n",
       " ' mois du 10-04-1996 au 13-05-1997 ',\n",
       " 'r 2001 puis en 2001 et 2002, ainsi',\n",
       " 'e : 2, 5 / 7 : 2000 € et compte te',\n",
       " 'que, de 1996 à 2007 “. la société ',\n",
       " 'ste, de 1996 à 2007, son travail c',\n",
       " '08 à septembre 2008. secondairemen',\n",
       " '2007 à février 2008 ainsi que la s',\n",
       " '2008 à février 2009 “ du fait de t',\n",
       " 'tratif 10 sep. 2009 “. il n’est pa',\n",
       " ', le 15décembre1992, que l’acciden',\n",
       " 'bert z... ... 72000 le mans la mut',\n",
       " 'vril 2009 -non 2008, l’accident ét',\n",
       " ' 81 en février 2004 (il était en c',\n",
       " '6 euros en mai 2004. il produit de',\n",
       " '0 410 euros en 2004, 22 080 euros ',\n",
       " '984 à ajaccio (20000) ... 20160 co',\n",
       " 'sello cs 15002 20000 ajaccio cedex',\n",
       " '25 266 euros . 2003 : 3 484 euros ',\n",
       " '07 855 euros . 2003 : 79 942 euros',\n",
       " 'e du 3 novembre2006 au 31 décembre',\n",
       " 't 338 jours en 2007 la somme de (1',\n",
       " 'r 235 jours en 2002, 8 ans et 6 mo',\n",
       " '0, 00 euros en 2009. il explique q',\n",
       " 's 2008 et juin 2010, et il ne peut',\n",
       " 'oré en 2009 et 2010 par l’effet co',\n",
       " '6 euros -année 2012 : (65/ 366) x ',\n",
       " ' en 2008, 1 en 2009 et 2 salariés ',\n",
       " 'le (13000) ... 20000 ajaccio repré',\n",
       " '5 de la loi no 2006-1640 du 21 déc',\n",
       " '0 % du 1o août 2009 au 30 septembr',\n",
       " 'le 1o novembre 2009. cet expert in',\n",
       " '87 ¿ perçue en 2004 au titre de la',\n",
       " 'r 2003 à avril 2003 faisant appara',\n",
       " 't 22. 236 ¿ en 2003 alors même que',\n",
       " 'usqu’au 30. 06 2007 puis avec reto',\n",
       " ': 22. 192 ¿ en 2006, 35. 113 ¿ en ',\n",
       " ' lui de 1999 à 2002, -le rembourse',\n",
       " '5.968 euros en 2003 (10 mois), soi',\n",
       " 't le 27juillet 1995 une hépatite c',\n",
       " 't le 27juillet 1995 une hépatite c',\n",
       " ' : 198 144 € (12000 x 16.512 ) ; a',\n",
       " ' 07 / 00687 no 2004 / 2040 cb / ev',\n",
       " '997 et octobre 1998 malgré ses ant',\n",
       " '997 et octobre 1998 n’ a pas permi',\n",
       " ' 1996 et avril 1997, il convient d',\n",
       " ' edf de 1982 à 1999. il a donc été',\n",
       " 'squ’en 1996 et 1997. ayant eu cons',\n",
       " ' edf de 1982 à 1999. il a donc été',\n",
       " 'loyé de 1966 à 1995 à la fabricati',\n",
       " '(19). c’est en 1994, alors qu’il é',\n",
       " 'its : le 19-01-2007, c...omar étai',\n",
       " '5. en novembre 1999, il a été diag',\n",
       " ' 000 francs en 1999 et 600. 000 fr',\n",
       " '80. en janvier 2009, cet état s’es',\n",
       " 'gnon du 27 / 102001 au 28 / 10 / 2',\n",
       " 'mortalité 2003-2005 avec un taux d',\n",
       " 'u le 1 er juin 1994 et ce, en appl',\n",
       " 'r le 1 er juin 1994, jusqu’au parf',\n",
       " ' 685 fcfp ; en 2008 sur 9 mois, le',\n",
       " 'ade de france 42008 saint-etienne ',\n",
       " 'à 1988 ; qu’en 1986, il a été vict',\n",
       " 'lières du 17-7-1990 au 12-6-1993 :',\n",
       " ' 27 mois (mars 2001 à août 2003) c',\n",
       " '(tp) de 1989 à 1997; qu’un adénoca',\n",
       " ' saison 2001 / 2002, a été victime',\n",
       " '8 ans ; d’août 1994 jusqu’à décemb',\n",
       " 'sct, de 1999 à 2004, concernant le',\n",
       " 'sct, de 1999 à 2004, concernant le',\n",
       " '2003 à octobre 2004, il a travaill',\n",
       " 'zes) de 1972 à 2004. ce témoin ind',\n",
       " 'iode de 1993 à 2004, a utilisé rég',\n",
       " 'sct, de 1999 à 2004, concernant le',\n",
       " 'sct, de 1999 à 2004, concernant le',\n",
       " 'zes) de 1972 à 2004. le 20 avril 2',\n",
       " 'sct, de 1999 à 2004, concernant le',\n",
       " 'xxx, de 1969 à 2004, a utilisé rég',\n",
       " 'sct, de 1999 à 2004, concernant le',\n",
       " 'uval de 1979 à 2004. monsieur xxx ',\n",
       " 'sct, de 1999 à 2004, concernant le',\n",
       " 's années 2000, 2003. elle offre 37',\n",
       " ' en 2002 et en 2003, année de l’ac',\n",
       " ' et 25 500€ en 2003) qu’au vu de c',\n",
       " 'partir de 1995/1996, attendu que c',\n",
       " ' de 20% d’août 2005 au 1er avril 2',\n",
       " ' à 10 % d’août 2005à mars 2008. il',\n",
       " ' juin 2010 (no 2010-8 qpc), le con',\n",
       " ' 1-10-87,10-11-2004,18-10-2006, et']"
      ]
     },
     "execution_count": 103,
     "metadata": {},
     "output_type": "execute_result"
    }
   ],
   "source": [
    "fails"
   ]
  },
  {
   "cell_type": "markdown",
   "metadata": {},
   "source": [
    "# 2. Creating Training Set"
   ]
  },
  {
   "cell_type": "code",
   "execution_count": 51,
   "metadata": {},
   "outputs": [
    {
     "name": "stderr",
     "output_type": "stream",
     "text": [
      "[nltk_data] Downloading package wordnet to /home/fei/nltk_data...\n",
      "[nltk_data]   Package wordnet is already up-to-date!\n",
      "[nltk_data] Downloading package stopwords to /home/fei/nltk_data...\n",
      "[nltk_data]   Package stopwords is already up-to-date!\n"
     ]
    },
    {
     "data": {
      "text/plain": [
       "True"
      ]
     },
     "execution_count": 51,
     "metadata": {},
     "output_type": "execute_result"
    }
   ],
   "source": [
    "import nltk\n",
    "from tqdm import tqdm\n",
    "import numpy as np\n",
    "from nltk.corpus import stopwords\n",
    "from nltk.stem import WordNetLemmatizer, SnowballStemmer\n",
    "nltk.download('wordnet')\n",
    "nltk.download('stopwords')"
   ]
  },
  {
   "cell_type": "code",
   "execution_count": 52,
   "metadata": {},
   "outputs": [],
   "source": [
    "stemmer = SnowballStemmer('french')\n",
    "lemmatizer = WordNetLemmatizer()\n",
    "stop_words = list(stopwords.words('french'))"
   ]
  },
  {
   "cell_type": "code",
   "execution_count": 53,
   "metadata": {},
   "outputs": [],
   "source": [
    "months_str_to_int = dict(janvier='01', fevrier='02', mars='03', avril='04', mai='05', juin='06',\n",
    "                         juillet='07', aout='08', septembre='09', octobre='10', novembre='11',\n",
    "                         decembre='12')\n",
    "\n",
    "def format_date(day:str, month:str, year:str):\n",
    "    if len(day) == 1:\n",
    "        day = '0' + day\n",
    "    elif not day.isnumeric():\n",
    "        day = '01'\n",
    "    if not month.isnumeric():\n",
    "        month = months_str_to_int[month]\n",
    "    elif len(month) == 1:\n",
    "        month = '0' + month\n",
    "    if len(year) == 2:\n",
    "        if int(year) < 30: year = '20' + year\n",
    "        else: year = '19' + year\n",
    "    return day, month, year"
   ]
  },
  {
   "cell_type": "code",
   "execution_count": 54,
   "metadata": {},
   "outputs": [
    {
     "name": "stderr",
     "output_type": "stream",
     "text": [
      "100%|██████████| 770/770 [00:18<00:00, 40.76it/s]\n"
     ]
    }
   ],
   "source": [
    "x_train = []\n",
    "y_train = []\n",
    "for i in tqdm(range(len(tr_texts))):\n",
    "    if y_tr_df.iloc[i]['date_consolidation'] != 'n.c.' and y_tr_df.iloc[i]['date_consolidation'] != 'n.a.':\n",
    "        text = tr_texts[i]\n",
    "        index = []\n",
    "        dates = []\n",
    "        for k, pattern in enumerate(patterns):\n",
    "            index.extend(re.finditer(pattern, text))\n",
    "            dates.extend(re.findall(patterns_bis[k], text))\n",
    "    \n",
    "    \n",
    "        zipped = sorted(list(zip(index,dates)), key = lambda x: x[0].start())\n",
    "        for j in range((len(index))):\n",
    "            index[j] = zipped[j][0]\n",
    "            dates[j] = zipped[j][1]\n",
    "        index = index[3:]\n",
    "        dates = dates[3:]\n",
    "    \n",
    "        window = 100\n",
    "        for k, ind in enumerate(index):\n",
    "            \n",
    "            day, month, year = dates[k][0], dates[k][1], dates[k][2]\n",
    "            month = month.lower().replace('é', 'e').replace('û', 'u')\n",
    "            if (month in months_str_to_int) or (month in months_str_to_int.values()):\n",
    "                day, month, year = format_date(day, month, year)\n",
    "                date = f\"{year}-{month}-{day}\"\n",
    "                \n",
    "                if ind.start() > window and ind.end() + window < len(text):\n",
    "                    chunk = text[ind.start() - window: ind.end() + window]\n",
    "                elif ind.start() <= window:\n",
    "                    chunk = text[: ind.end() + 2*window]\n",
    "                elif ind.end() +window >= len(text):\n",
    "                    chunk = text[len(text) - 2*window:]\n",
    "                chunk = re.sub(r\"^[^\\s]*\\s*\", \"\", chunk)\n",
    "                chunk = re.sub(r\"\\s*[^\\s]*$\", \"\", chunk)\n",
    "                chunk = clean2(chunk, lemmatizer, stemmer, stop_words = stop_words)\n",
    "\n",
    "                x_train.append(chunk)\n",
    "\n",
    "                if date == y_tr_df.iloc[i]['date_consolidation']: y_train.append(1)\n",
    "                else: y_train.append(0)"
   ]
  },
  {
   "cell_type": "code",
   "execution_count": 55,
   "metadata": {},
   "outputs": [],
   "source": [
    "y_train = np.array(y_train)"
   ]
  },
  {
   "cell_type": "markdown",
   "metadata": {},
   "source": [
    "# 3. Training Model"
   ]
  },
  {
   "cell_type": "code",
   "execution_count": 56,
   "metadata": {},
   "outputs": [],
   "source": [
    "from sklearn.feature_extraction.text import TfidfVectorizer\n",
    "from sklearn.model_selection import KFold\n",
    "from xgboost import XGBClassifier"
   ]
  },
  {
   "cell_type": "code",
   "execution_count": 57,
   "metadata": {
    "scrolled": true
   },
   "outputs": [],
   "source": [
    "TF_IDF = TfidfVectorizer(ngram_range=(1, 2), max_features=500, norm='l2', sublinear_tf=True)\n",
    "x_train = TF_IDF.fit_transform(x_train).toarray()"
   ]
  },
  {
   "cell_type": "code",
   "execution_count": 165,
   "metadata": {
    "collapsed": true
   },
   "outputs": [
    {
     "ename": "KeyboardInterrupt",
     "evalue": "",
     "output_type": "error",
     "traceback": [
      "\u001b[0;31m---------------------------------------------------------------------------\u001b[0m",
      "\u001b[0;31mKeyboardInterrupt\u001b[0m                         Traceback (most recent call last)",
      "\u001b[0;32m<ipython-input-165-909aded607a3>\u001b[0m in \u001b[0;36m<module>\u001b[0;34m\u001b[0m\n\u001b[1;32m      7\u001b[0m     \u001b[0;34m'colsample_bytree'\u001b[0m\u001b[0;34m:\u001b[0m \u001b[0;34m[\u001b[0m\u001b[0;36m.7\u001b[0m\u001b[0;34m,\u001b[0m \u001b[0;36m.9\u001b[0m\u001b[0;34m]\u001b[0m\u001b[0;34m,\u001b[0m\u001b[0;34m\u001b[0m\u001b[0;34m\u001b[0m\u001b[0m\n\u001b[1;32m      8\u001b[0m }\n\u001b[0;32m----> 9\u001b[0;31m \u001b[0mclassifier\u001b[0m\u001b[0;34m,\u001b[0m \u001b[0mbest_thresh\u001b[0m\u001b[0;34m,\u001b[0m \u001b[0mbest_params\u001b[0m \u001b[0;34m=\u001b[0m \u001b[0mgrid_search\u001b[0m\u001b[0;34m(\u001b[0m\u001b[0mx_train\u001b[0m\u001b[0;34m,\u001b[0m \u001b[0my_train\u001b[0m\u001b[0;34m,\u001b[0m \u001b[0mparam_grid\u001b[0m\u001b[0;34m)\u001b[0m\u001b[0;34m\u001b[0m\u001b[0;34m\u001b[0m\u001b[0m\n\u001b[0m",
      "\u001b[0;32m~/projects/cours/predilex_ENS_challenge/utils.py\u001b[0m in \u001b[0;36mgrid_search\u001b[0;34m(x, y, params, plot)\u001b[0m\n\u001b[1;32m    144\u001b[0m                     \u001b[0;31m# threshs are optimal thresh that minimize recall difference on\u001b[0m\u001b[0;34m\u001b[0m\u001b[0;34m\u001b[0m\u001b[0;34m\u001b[0m\u001b[0m\n\u001b[1;32m    145\u001b[0m                     \u001b[0;31m# the corresponding validation set.\u001b[0m\u001b[0;34m\u001b[0m\u001b[0;34m\u001b[0m\u001b[0;34m\u001b[0m\u001b[0m\n\u001b[0;32m--> 146\u001b[0;31m                     \u001b[0maurocs\u001b[0m\u001b[0;34m,\u001b[0m \u001b[0mthreshs\u001b[0m \u001b[0;34m=\u001b[0m \u001b[0mcross_val\u001b[0m\u001b[0;34m(\u001b[0m\u001b[0mx\u001b[0m\u001b[0;34m,\u001b[0m \u001b[0my\u001b[0m\u001b[0;34m,\u001b[0m \u001b[0mclassifier\u001b[0m\u001b[0;34m,\u001b[0m\u001b[0mcv\u001b[0m \u001b[0;34m=\u001b[0m \u001b[0;36m5\u001b[0m\u001b[0;34m,\u001b[0m \u001b[0mplot\u001b[0m \u001b[0;34m=\u001b[0m \u001b[0mplot\u001b[0m\u001b[0;34m)\u001b[0m\u001b[0;34m\u001b[0m\u001b[0;34m\u001b[0m\u001b[0m\n\u001b[0m\u001b[1;32m    147\u001b[0m                     \u001b[0mscore\u001b[0m \u001b[0;34m=\u001b[0m \u001b[0mnp\u001b[0m\u001b[0;34m.\u001b[0m\u001b[0mmean\u001b[0m\u001b[0;34m(\u001b[0m\u001b[0maurocs\u001b[0m\u001b[0;34m)\u001b[0m\u001b[0;34m\u001b[0m\u001b[0;34m\u001b[0m\u001b[0m\n\u001b[1;32m    148\u001b[0m                     \u001b[0mprint\u001b[0m\u001b[0;34m(\u001b[0m\u001b[0;34m'step {}/{}, '\u001b[0m\u001b[0;34m.\u001b[0m\u001b[0mformat\u001b[0m\u001b[0;34m(\u001b[0m\u001b[0mcount\u001b[0m\u001b[0;34m,\u001b[0m \u001b[0;36m36\u001b[0m\u001b[0;34m)\u001b[0m\u001b[0;34m,\u001b[0m \u001b[0mend\u001b[0m \u001b[0;34m=\u001b[0m \u001b[0;34m'\\r'\u001b[0m\u001b[0;34m)\u001b[0m\u001b[0;34m\u001b[0m\u001b[0;34m\u001b[0m\u001b[0m\n",
      "\u001b[0;32m~/projects/cours/predilex_ENS_challenge/utils.py\u001b[0m in \u001b[0;36mcross_val\u001b[0;34m(x, y, classifier, cv, plot)\u001b[0m\n\u001b[1;32m    105\u001b[0m         \u001b[0my_train\u001b[0m\u001b[0;34m,\u001b[0m \u001b[0my_val\u001b[0m \u001b[0;34m=\u001b[0m \u001b[0my\u001b[0m\u001b[0;34m[\u001b[0m\u001b[0mtrain_ind\u001b[0m\u001b[0;34m]\u001b[0m\u001b[0;34m,\u001b[0m \u001b[0my\u001b[0m\u001b[0;34m[\u001b[0m\u001b[0mval_ind\u001b[0m\u001b[0;34m]\u001b[0m\u001b[0;34m\u001b[0m\u001b[0;34m\u001b[0m\u001b[0m\n\u001b[1;32m    106\u001b[0m \u001b[0;34m\u001b[0m\u001b[0m\n\u001b[0;32m--> 107\u001b[0;31m         \u001b[0mclassifier\u001b[0m\u001b[0;34m.\u001b[0m\u001b[0mfit\u001b[0m\u001b[0;34m(\u001b[0m\u001b[0mx_train\u001b[0m\u001b[0;34m,\u001b[0m \u001b[0my_train\u001b[0m\u001b[0;34m)\u001b[0m\u001b[0;34m\u001b[0m\u001b[0;34m\u001b[0m\u001b[0m\n\u001b[0m\u001b[1;32m    108\u001b[0m \u001b[0;34m\u001b[0m\u001b[0m\n\u001b[1;32m    109\u001b[0m         \u001b[0;31m#pred = classifier.predict(x_val)\u001b[0m\u001b[0;34m\u001b[0m\u001b[0;34m\u001b[0m\u001b[0;34m\u001b[0m\u001b[0m\n",
      "\u001b[0;32m~/anaconda3/lib/python3.7/site-packages/xgboost/sklearn.py\u001b[0m in \u001b[0;36mfit\u001b[0;34m(self, X, y, sample_weight, base_margin, eval_set, eval_metric, early_stopping_rounds, verbose, xgb_model, sample_weight_eval_set, callbacks)\u001b[0m\n\u001b[1;32m    821\u001b[0m                               \u001b[0mevals_result\u001b[0m\u001b[0;34m=\u001b[0m\u001b[0mevals_result\u001b[0m\u001b[0;34m,\u001b[0m \u001b[0mobj\u001b[0m\u001b[0;34m=\u001b[0m\u001b[0mobj\u001b[0m\u001b[0;34m,\u001b[0m \u001b[0mfeval\u001b[0m\u001b[0;34m=\u001b[0m\u001b[0mfeval\u001b[0m\u001b[0;34m,\u001b[0m\u001b[0;34m\u001b[0m\u001b[0;34m\u001b[0m\u001b[0m\n\u001b[1;32m    822\u001b[0m                               \u001b[0mverbose_eval\u001b[0m\u001b[0;34m=\u001b[0m\u001b[0mverbose\u001b[0m\u001b[0;34m,\u001b[0m \u001b[0mxgb_model\u001b[0m\u001b[0;34m=\u001b[0m\u001b[0mxgb_model\u001b[0m\u001b[0;34m,\u001b[0m\u001b[0;34m\u001b[0m\u001b[0;34m\u001b[0m\u001b[0m\n\u001b[0;32m--> 823\u001b[0;31m                               callbacks=callbacks)\n\u001b[0m\u001b[1;32m    824\u001b[0m \u001b[0;34m\u001b[0m\u001b[0m\n\u001b[1;32m    825\u001b[0m         \u001b[0mself\u001b[0m\u001b[0;34m.\u001b[0m\u001b[0mobjective\u001b[0m \u001b[0;34m=\u001b[0m \u001b[0mxgb_options\u001b[0m\u001b[0;34m[\u001b[0m\u001b[0;34m\"objective\"\u001b[0m\u001b[0;34m]\u001b[0m\u001b[0;34m\u001b[0m\u001b[0;34m\u001b[0m\u001b[0m\n",
      "\u001b[0;32m~/anaconda3/lib/python3.7/site-packages/xgboost/training.py\u001b[0m in \u001b[0;36mtrain\u001b[0;34m(params, dtrain, num_boost_round, evals, obj, feval, maximize, early_stopping_rounds, evals_result, verbose_eval, xgb_model, callbacks)\u001b[0m\n\u001b[1;32m    207\u001b[0m                            \u001b[0mevals\u001b[0m\u001b[0;34m=\u001b[0m\u001b[0mevals\u001b[0m\u001b[0;34m,\u001b[0m\u001b[0;34m\u001b[0m\u001b[0;34m\u001b[0m\u001b[0m\n\u001b[1;32m    208\u001b[0m                            \u001b[0mobj\u001b[0m\u001b[0;34m=\u001b[0m\u001b[0mobj\u001b[0m\u001b[0;34m,\u001b[0m \u001b[0mfeval\u001b[0m\u001b[0;34m=\u001b[0m\u001b[0mfeval\u001b[0m\u001b[0;34m,\u001b[0m\u001b[0;34m\u001b[0m\u001b[0;34m\u001b[0m\u001b[0m\n\u001b[0;32m--> 209\u001b[0;31m                            xgb_model=xgb_model, callbacks=callbacks)\n\u001b[0m\u001b[1;32m    210\u001b[0m \u001b[0;34m\u001b[0m\u001b[0m\n\u001b[1;32m    211\u001b[0m \u001b[0;34m\u001b[0m\u001b[0m\n",
      "\u001b[0;32m~/anaconda3/lib/python3.7/site-packages/xgboost/training.py\u001b[0m in \u001b[0;36m_train_internal\u001b[0;34m(params, dtrain, num_boost_round, evals, obj, feval, xgb_model, callbacks)\u001b[0m\n\u001b[1;32m     72\u001b[0m         \u001b[0;31m# Skip the first update if it is a recovery step.\u001b[0m\u001b[0;34m\u001b[0m\u001b[0;34m\u001b[0m\u001b[0;34m\u001b[0m\u001b[0m\n\u001b[1;32m     73\u001b[0m         \u001b[0;32mif\u001b[0m \u001b[0mversion\u001b[0m \u001b[0;34m%\u001b[0m \u001b[0;36m2\u001b[0m \u001b[0;34m==\u001b[0m \u001b[0;36m0\u001b[0m\u001b[0;34m:\u001b[0m\u001b[0;34m\u001b[0m\u001b[0;34m\u001b[0m\u001b[0m\n\u001b[0;32m---> 74\u001b[0;31m             \u001b[0mbst\u001b[0m\u001b[0;34m.\u001b[0m\u001b[0mupdate\u001b[0m\u001b[0;34m(\u001b[0m\u001b[0mdtrain\u001b[0m\u001b[0;34m,\u001b[0m \u001b[0mi\u001b[0m\u001b[0;34m,\u001b[0m \u001b[0mobj\u001b[0m\u001b[0;34m)\u001b[0m\u001b[0;34m\u001b[0m\u001b[0;34m\u001b[0m\u001b[0m\n\u001b[0m\u001b[1;32m     75\u001b[0m             \u001b[0mbst\u001b[0m\u001b[0;34m.\u001b[0m\u001b[0msave_rabit_checkpoint\u001b[0m\u001b[0;34m(\u001b[0m\u001b[0;34m)\u001b[0m\u001b[0;34m\u001b[0m\u001b[0;34m\u001b[0m\u001b[0m\n\u001b[1;32m     76\u001b[0m             \u001b[0mversion\u001b[0m \u001b[0;34m+=\u001b[0m \u001b[0;36m1\u001b[0m\u001b[0;34m\u001b[0m\u001b[0;34m\u001b[0m\u001b[0m\n",
      "\u001b[0;32m~/anaconda3/lib/python3.7/site-packages/xgboost/core.py\u001b[0m in \u001b[0;36mupdate\u001b[0;34m(self, dtrain, iteration, fobj)\u001b[0m\n\u001b[1;32m   1246\u001b[0m             _check_call(_LIB.XGBoosterUpdateOneIter(self.handle,\n\u001b[1;32m   1247\u001b[0m                                                     \u001b[0mctypes\u001b[0m\u001b[0;34m.\u001b[0m\u001b[0mc_int\u001b[0m\u001b[0;34m(\u001b[0m\u001b[0miteration\u001b[0m\u001b[0;34m)\u001b[0m\u001b[0;34m,\u001b[0m\u001b[0;34m\u001b[0m\u001b[0;34m\u001b[0m\u001b[0m\n\u001b[0;32m-> 1248\u001b[0;31m                                                     dtrain.handle))\n\u001b[0m\u001b[1;32m   1249\u001b[0m         \u001b[0;32melse\u001b[0m\u001b[0;34m:\u001b[0m\u001b[0;34m\u001b[0m\u001b[0;34m\u001b[0m\u001b[0m\n\u001b[1;32m   1250\u001b[0m             \u001b[0mpred\u001b[0m \u001b[0;34m=\u001b[0m \u001b[0mself\u001b[0m\u001b[0;34m.\u001b[0m\u001b[0mpredict\u001b[0m\u001b[0;34m(\u001b[0m\u001b[0mdtrain\u001b[0m\u001b[0;34m,\u001b[0m \u001b[0mtraining\u001b[0m\u001b[0;34m=\u001b[0m\u001b[0;32mTrue\u001b[0m\u001b[0;34m)\u001b[0m\u001b[0;34m\u001b[0m\u001b[0;34m\u001b[0m\u001b[0m\n",
      "\u001b[0;31mKeyboardInterrupt\u001b[0m: "
     ]
    }
   ],
   "source": [
    "random_state = 42\n",
    "\n",
    "param_grid = {\n",
    "    'max_depth': [3, 5],\n",
    "    'learning_rate': [.1],\n",
    "    'subsample': [.7, .9],\n",
    "    'colsample_bytree': [.7, .9],\n",
    "}\n",
    "classifier, best_thresh, best_params = grid_search(x_train, y_train, param_grid)"
   ]
  },
  {
   "cell_type": "code",
   "execution_count": 28,
   "metadata": {},
   "outputs": [
    {
     "data": {
      "text/plain": [
       "{'max_depth': 5,\n",
       " 'learning_rate': 0.1,\n",
       " 'subsample': 0.7,\n",
       " 'colsample_bytree': 0.9,\n",
       " 'random_state': 42}"
      ]
     },
     "execution_count": 28,
     "metadata": {},
     "output_type": "execute_result"
    }
   ],
   "source": [
    "best_params"
   ]
  },
  {
   "cell_type": "code",
   "execution_count": 58,
   "metadata": {},
   "outputs": [],
   "source": [
    "classifier = XGBClassifier(max_depth = 5,\n",
    "                           learning_rate = 0.1,\n",
    "                           subsample = 0.7,\n",
    "                           colsample_bytree = 0.9,\n",
    "                           random_state = 42)"
   ]
  },
  {
   "cell_type": "code",
   "execution_count": 59,
   "metadata": {
    "scrolled": false
   },
   "outputs": [
    {
     "data": {
      "text/plain": [
       "XGBClassifier(base_score=0.5, booster=None, colsample_bylevel=1,\n",
       "              colsample_bynode=1, colsample_bytree=0.9, gamma=0, gpu_id=-1,\n",
       "              importance_type='gain', interaction_constraints=None,\n",
       "              learning_rate=0.1, max_delta_step=0, max_depth=5,\n",
       "              min_child_weight=1, missing=nan, monotone_constraints=None,\n",
       "              n_estimators=100, n_jobs=0, num_parallel_tree=1,\n",
       "              objective='binary:logistic', random_state=42, reg_alpha=0,\n",
       "              reg_lambda=1, scale_pos_weight=1, subsample=0.7, tree_method=None,\n",
       "              validate_parameters=False, verbosity=None)"
      ]
     },
     "execution_count": 59,
     "metadata": {},
     "output_type": "execute_result"
    }
   ],
   "source": [
    "classifier.fit(x_train, y_train)"
   ]
  },
  {
   "cell_type": "code",
   "execution_count": 60,
   "metadata": {},
   "outputs": [],
   "source": [
    "proba = classifier.predict_proba(x_train)"
   ]
  },
  {
   "cell_type": "code",
   "execution_count": 61,
   "metadata": {},
   "outputs": [
    {
     "data": {
      "image/png": "[encoded data removed]",
      "text/plain": [
       "<Figure size 432x288 with 1 Axes>"
      ]
     },
     "metadata": {
      "needs_background": "light"
     },
     "output_type": "display_data"
    },
    {
     "name": "stdout",
     "output_type": "stream",
     "text": [
      "optimal threshold is 0.05190190300345421\n"
     ]
    }
   ],
   "source": [
    "t, _ = find_opti_thresh(y_train, proba[:,1])"
   ]
  },
  {
   "cell_type": "markdown",
   "metadata": {},
   "source": [
    "# 4. Predict accident date in a text"
   ]
  },
  {
   "cell_type": "code",
   "execution_count": 62,
   "metadata": {},
   "outputs": [
    {
     "name": "stderr",
     "output_type": "stream",
     "text": [
      "100%|██████████| 770/770 [00:17<00:00, 44.78it/s]\n"
     ]
    }
   ],
   "source": [
    "candidates = []\n",
    "candidates_txt = []\n",
    "sentence_dates = []\n",
    "true_dates = []\n",
    "for i in tqdm(range(len(tr_texts))):\n",
    "    if y_tr_df.iloc[i]['date_consolidation'] != 'n.c.' and y_tr_df.iloc[i]['date_consolidation'] != 'n.a.':\n",
    "        text = tr_texts[i]\n",
    "        index = []\n",
    "        dates = []\n",
    "        for k, pattern in enumerate(patterns):\n",
    "            index.extend(re.finditer(pattern, text))\n",
    "            dates.extend(re.findall(patterns_bis[k], text))\n",
    "            \n",
    "        zipped = sorted(list(zip(index,dates)), key = lambda x: x[0].start())\n",
    "        for j in range((len(index))):\n",
    "            index[j] = zipped[j][0]\n",
    "            dates[j] = zipped[j][1]\n",
    "        index = index[3:]\n",
    "        dates = dates[3:]\n",
    "        \n",
    "        window = 100\n",
    "        data = []\n",
    "        data_txt = []\n",
    "        s_d = []\n",
    "        for k, ind in enumerate(index):\n",
    "            day, month, year = dates[k][0], dates[k][1], dates[k][2]\n",
    "            month = month.lower().replace('é', 'e').replace('û', 'u')\n",
    "            if month in months_str_to_int or month in months_str_to_int.values():\n",
    "                day, month, year = format_date(day, month, year)\n",
    "                date = f\"{year}-{month}-{day}\"\n",
    "\n",
    "                if ind.start() > window and ind.end() + window < len(text):\n",
    "                    chunk = text[ind.start() - window: ind.end() + window]\n",
    "                elif ind.start() <= window:\n",
    "                    chunk = text[: ind.end() + 2*window]\n",
    "                elif ind.end() +window >= len(text):\n",
    "                    chunk = text[len(text) - 2*window:]\n",
    "                chunk = re.sub(r\"^[^\\s]*\\s*\", \"\", chunk)\n",
    "                chunk = re.sub(r\"\\s*[^\\s]*$\", \"\", chunk)\n",
    "\n",
    "                data_txt.append(chunk)\n",
    "\n",
    "                chunk = clean2(chunk, lemmatizer, stemmer, stop_words = stop_words)\n",
    "                data.append(chunk)\n",
    "                s_d.append(date)\n",
    "\n",
    "        candidates.append(data)\n",
    "        candidates_txt.append(data_txt)\n",
    "        sentence_dates.append(s_d)\n",
    "        true_dates.append(y_tr_df.iloc[i]['date_consolidation'])"
   ]
  },
  {
   "cell_type": "code",
   "execution_count": 63,
   "metadata": {},
   "outputs": [],
   "source": [
    "for i in range(len(candidates)):\n",
    "    candidate = TF_IDF.transform(candidates[i]).toarray()\n",
    "    candidates[i] = candidate"
   ]
  },
  {
   "cell_type": "code",
   "execution_count": 64,
   "metadata": {},
   "outputs": [],
   "source": [
    "preds = []\n",
    "L = []\n",
    "all_scores = []\n",
    "for i, candidate in enumerate(candidates):\n",
    "    out = classifier.predict_proba(candidate)[:,1]\n",
    "    all_scores.append(list(out))\n",
    "    pred = np.argmax(out)\n",
    "    score = np.max(out)\n",
    "    pred_date = sentence_dates[i][pred]\n",
    "    preds.append(pred_date)\n",
    "    if score < 0.2: L.append((score, i, pred))"
   ]
  },
  {
   "cell_type": "code",
   "execution_count": 65,
   "metadata": {},
   "outputs": [],
   "source": [
    "for i, score in enumerate(all_scores):\n",
    "    score = [(score[j], j) for j, _ in enumerate(score)]\n",
    "    score = sorted(score, key = lambda x: x[0], reverse = True)\n",
    "    all_scores[i] = score"
   ]
  },
  {
   "cell_type": "code",
   "execution_count": 66,
   "metadata": {},
   "outputs": [
    {
     "data": {
      "text/plain": [
       "0.9042316258351893"
      ]
     },
     "execution_count": 66,
     "metadata": {},
     "output_type": "execute_result"
    }
   ],
   "source": [
    "accuracy = 0\n",
    "for i in range(len(preds)):\n",
    "    if preds[i] == true_dates[i]:\n",
    "        accuracy += 1\n",
    "accuracy/len(preds)"
   ]
  },
  {
   "cell_type": "markdown",
   "metadata": {},
   "source": [
    "## 4.1 checking errors"
   ]
  },
  {
   "cell_type": "code",
   "execution_count": null,
   "metadata": {},
   "outputs": [],
   "source": [
    "# 14/11/99 not detected\n",
    "# sentence not explicitly stating accident or not long enough"
   ]
  },
  {
   "cell_type": "code",
   "execution_count": 189,
   "metadata": {
    "collapsed": true
   },
   "outputs": [
    {
     "data": {
      "text/plain": [
       "[(0.1227333, 7, 9),\n",
       " (0.18282376, 47, 36),\n",
       " (0.07101397, 66, 16),\n",
       " (0.102354184, 119, 26),\n",
       " (0.11321503, 207, 38),\n",
       " (0.14621095, 209, 11),\n",
       " (0.13175452, 222, 18),\n",
       " (0.19334021, 237, 19),\n",
       " (0.10772764, 241, 14),\n",
       " (0.12584545, 257, 16),\n",
       " (0.1652214, 278, 17),\n",
       " (0.085684225, 310, 13),\n",
       " (0.03627394, 326, 0),\n",
       " (0.16099206, 336, 13),\n",
       " (0.07627484, 337, 30),\n",
       " (0.093213424, 340, 21),\n",
       " (0.17403415, 345, 6),\n",
       " (0.18585391, 354, 7),\n",
       " (0.16843969, 367, 8),\n",
       " (0.11082484, 380, 8),\n",
       " (0.08870588, 381, 15),\n",
       " (0.074391276, 385, 21),\n",
       " (0.08943464, 400, 3),\n",
       " (0.07912295, 411, 13),\n",
       " (0.11098801, 418, 20),\n",
       " (0.17323886, 421, 18),\n",
       " (0.18429677, 437, 14),\n",
       " (0.1314131, 441, 2),\n",
       " (0.17207965, 505, 9),\n",
       " (0.090780936, 511, 9),\n",
       " (0.18726933, 513, 7),\n",
       " (0.14652322, 515, 18),\n",
       " (0.18034413, 521, 27),\n",
       " (0.17933044, 534, 32),\n",
       " (0.089126155, 567, 7),\n",
       " (0.17681623, 570, 22),\n",
       " (0.13684788, 577, 5),\n",
       " (0.16812935, 579, 20),\n",
       " (0.1936722, 583, 41),\n",
       " (0.119739644, 605, 17),\n",
       " (0.1829019, 611, 8),\n",
       " (0.15808034, 621, 18),\n",
       " (0.16921292, 624, 38),\n",
       " (0.108769864, 631, 18),\n",
       " (0.10955467, 659, 21),\n",
       " (0.17516707, 661, 26),\n",
       " (0.19156845, 680, 31),\n",
       " (0.17748612, 688, 2),\n",
       " (0.15503651, 691, 8),\n",
       " (0.069543175, 695, 18),\n",
       " (0.1954777, 700, 32),\n",
       " (0.13760097, 727, 6),\n",
       " (0.159886, 731, 4),\n",
       " (0.08156221, 733, 17),\n",
       " (0.18711522, 739, 23)]"
      ]
     },
     "execution_count": 189,
     "metadata": {},
     "output_type": "execute_result"
    }
   ],
   "source": [
    "L"
   ]
  },
  {
   "cell_type": "code",
   "execution_count": 192,
   "metadata": {},
   "outputs": [
    {
     "data": {
      "text/plain": [
       "'1994-05-31'"
      ]
     },
     "execution_count": 192,
     "metadata": {},
     "output_type": "execute_result"
    }
   ],
   "source": [
    "indice = 7\n",
    "true_dates[indice]"
   ]
  },
  {
   "cell_type": "code",
   "execution_count": 193,
   "metadata": {
    "collapsed": true
   },
   "outputs": [
    {
     "data": {
      "text/plain": [
       "[(0.1227333, 9),\n",
       " (0.09459285, 12),\n",
       " (0.079517335, 4),\n",
       " (0.065727755, 10),\n",
       " (0.0634461, 8),\n",
       " (0.055303328, 6),\n",
       " (0.054202486, 16),\n",
       " (0.04921267, 11),\n",
       " (0.045357123, 15),\n",
       " (0.04439468, 14),\n",
       " (0.042043928, 17),\n",
       " (0.036830947, 13),\n",
       " (0.03627394, 0),\n",
       " (0.03627394, 1),\n",
       " (0.03627394, 20),\n",
       " (0.031841308, 7),\n",
       " (0.026226785, 19),\n",
       " (0.025140014, 18),\n",
       " (0.020819057, 3),\n",
       " (0.011471014, 5),\n",
       " (0.0038249707, 2)]"
      ]
     },
     "execution_count": 193,
     "metadata": {},
     "output_type": "execute_result"
    }
   ],
   "source": [
    "all_scores[indice]"
   ]
  },
  {
   "cell_type": "code",
   "execution_count": 195,
   "metadata": {},
   "outputs": [
    {
     "data": {
      "text/plain": [
       "'ule du constat posé par le docteur b., médecin du travail qui retraçant dans un courrier adressé le 4 septembre 1995 à l’employeur l’historique de la maladie, indique avoir revu didier a. postérieurement à sa nouvell'"
      ]
     },
     "execution_count": 195,
     "metadata": {},
     "output_type": "execute_result"
    }
   ],
   "source": [
    "candidates_txt[indice][12]"
   ]
  },
  {
   "cell_type": "markdown",
   "metadata": {},
   "source": [
    "#  3. Predict test data "
   ]
  },
  {
   "cell_type": "code",
   "execution_count": 67,
   "metadata": {},
   "outputs": [],
   "source": [
    "#x_test data\n",
    "x_te_df = pd.read_csv('test_folder/x_test_ids.csv', index_col=0)\n",
    "te_dir = \"test_folder/txt_files/\"\n",
    "te_files = x_te_df['filename'].values\n",
    "te_texts = []\n",
    "for te_file in te_files:\n",
    "    f = open(os.path.join(te_dir, te_file), \"r\")\n",
    "    ff = f.read()\n",
    "    ff = clean1(ff)\n",
    "    te_texts.append(ff)"
   ]
  },
  {
   "cell_type": "code",
   "execution_count": 68,
   "metadata": {},
   "outputs": [
    {
     "name": "stderr",
     "output_type": "stream",
     "text": [
      "100%|██████████| 257/257 [00:08<00:00, 30.35it/s]\n"
     ]
    }
   ],
   "source": [
    "candidates = []\n",
    "sentence_dates = []\n",
    "for i in tqdm(range(len(te_texts))):\n",
    "    text = te_texts[i]\n",
    "    index = []\n",
    "    dates = []\n",
    "    for k, pattern in enumerate(patterns):\n",
    "        index.extend(re.finditer(pattern, text))\n",
    "        dates.extend(re.findall(patterns_bis[k], text))\n",
    "\n",
    "    zipped = sorted(list(zip(index,dates)), key = lambda x: x[0].start())\n",
    "    for j in range((len(index))):\n",
    "        index[j] = zipped[j][0]\n",
    "        dates[j] = zipped[j][1]\n",
    "    index = index[3:]\n",
    "    dates = dates[3:]\n",
    "    \n",
    "    window = 100\n",
    "    data = []\n",
    "    s_d = []\n",
    "    for k, ind in enumerate(index):\n",
    "        day, month, year = dates[k][0], dates[k][1], dates[k][2]\n",
    "        month = month.lower().replace('é', 'e').replace('û', 'u')\n",
    "        if month in months_str_to_int:\n",
    "            day, month, year = format_date(day, month, year)\n",
    "            date = f\"{year}-{month}-{day}\"\n",
    "\n",
    "            if ind.start() > window and ind.end() + window < len(text):\n",
    "                chunk = text[ind.start() - window: ind.end() + window]\n",
    "            elif ind.start() <= window:\n",
    "                chunk = text[: ind.end() + 2*window]\n",
    "            elif ind.end() + window >= len(text):\n",
    "                chunk = text[len(text) - 2*window:]\n",
    "            chunk = re.sub(r\"^[^\\s]*\\s*\", \"\", chunk)\n",
    "            chunk = re.sub(r\"\\s*[^\\s]*$\", \"\", chunk)\n",
    "\n",
    "            chunk = clean2(chunk, lemmatizer, stemmer, stop_words = stop_words)\n",
    "            data.append(chunk)\n",
    "            s_d.append(date)\n",
    "\n",
    "    candidates.append(data)\n",
    "    sentence_dates.append(s_d)"
   ]
  },
  {
   "cell_type": "code",
   "execution_count": 69,
   "metadata": {},
   "outputs": [],
   "source": [
    "for i in range(len(candidates)):\n",
    "    candidate = TF_IDF.transform(candidates[i]).toarray()\n",
    "    candidates[i] = candidate"
   ]
  },
  {
   "cell_type": "code",
   "execution_count": 70,
   "metadata": {},
   "outputs": [],
   "source": [
    "preds = []\n",
    "for i, candidate in enumerate(candidates):\n",
    "    pred = np.argmax(classifier.predict_proba(candidate)[:,1])\n",
    "    score = np.max(classifier.predict_proba(candidate)[:,1])\n",
    "    if score < t: preds.append('n.c.')\n",
    "    else:\n",
    "        pred_date = sentence_dates[i][pred]\n",
    "        preds.append(pred_date)"
   ]
  },
  {
   "cell_type": "code",
   "execution_count": 71,
   "metadata": {},
   "outputs": [],
   "source": [
    "np.save('results/consolidation.npy', preds)"
   ]
  },
  {
   "cell_type": "code",
   "execution_count": null,
   "metadata": {},
   "outputs": [],
   "source": []
  }
 ],
 "metadata": {
  "kernelspec": {
   "display_name": "Python 3",
   "language": "python",
   "name": "python3"
  },
  "language_info": {
   "codemirror_mode": {
    "name": "ipython",
    "version": 3
   },
   "file_extension": ".py",
   "mimetype": "text/x-python",
   "name": "python",
   "nbconvert_exporter": "python",
   "pygments_lexer": "ipython3",
   "version": "3.7.3"
  }
 },
 "nbformat": 4,
 "nbformat_minor": 2
}
